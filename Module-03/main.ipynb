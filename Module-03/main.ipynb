{
 "cells": [
  {
   "cell_type": "markdown",
   "id": "d5ac36fe-0fa8-4bb7-ba10-fde5db207d4e",
   "metadata": {},
   "source": [
    "# Exploratory Data Analysis"
   ]
  },
  {
   "cell_type": "code",
   "execution_count": 1,
   "id": "d54c3428-c740-4bc7-8175-3ccecd00f189",
   "metadata": {},
   "outputs": [],
   "source": [
    "import pandas as pd\n",
    "import numpy as np\n",
    "\n",
    "url = 'https://archive.ics.uci.edu/ml/machine-learning-databases/autos/imports-85.data'\n",
    "\n",
    "headers = [\n",
    "    'symboling', 'normalized-losses', 'make', 'fuel-type', 'aspiration', 'num-of-doors', \n",
    "    'body-style', 'drive-wheels', 'engine-location', 'wheel-base', 'length', 'width', 'height', \n",
    "    'curb-weight', 'engine-type', 'num-of-cylinders', 'engine-size', 'fuel-system', 'bore',\n",
    "    'stroke', 'compression-ratio', 'horsepower', 'peak-rpm', 'city-mpg', 'highway-mpg', 'price'\n",
    "]\n",
    "\n",
    "df = pd.read_csv(url, names=headers, header=None)\n",
    "\n",
    "df.replace('?', np.NaN, inplace=True)\n",
    "df['price'] = df['price'].astype(float)\n",
    "df['horsepower'] = df['horsepower'].astype(float)\n",
    "df.dropna(subset=['price', 'horsepower'], axis=0, inplace=True)"
   ]
  },
  {
   "cell_type": "code",
   "execution_count": 2,
   "id": "c0df4f9e-08de-4907-91b7-e735449a35df",
   "metadata": {},
   "outputs": [
    {
     "data": {
      "text/html": [
       "<div>\n",
       "<style scoped>\n",
       "    .dataframe tbody tr th:only-of-type {\n",
       "        vertical-align: middle;\n",
       "    }\n",
       "\n",
       "    .dataframe tbody tr th {\n",
       "        vertical-align: top;\n",
       "    }\n",
       "\n",
       "    .dataframe thead th {\n",
       "        text-align: right;\n",
       "    }\n",
       "</style>\n",
       "<table border=\"1\" class=\"dataframe\">\n",
       "  <thead>\n",
       "    <tr style=\"text-align: right;\">\n",
       "      <th></th>\n",
       "      <th>symboling</th>\n",
       "      <th>normalized-losses</th>\n",
       "      <th>make</th>\n",
       "      <th>fuel-type</th>\n",
       "      <th>aspiration</th>\n",
       "      <th>num-of-doors</th>\n",
       "      <th>body-style</th>\n",
       "      <th>drive-wheels</th>\n",
       "      <th>engine-location</th>\n",
       "      <th>wheel-base</th>\n",
       "      <th>...</th>\n",
       "      <th>engine-size</th>\n",
       "      <th>fuel-system</th>\n",
       "      <th>bore</th>\n",
       "      <th>stroke</th>\n",
       "      <th>compression-ratio</th>\n",
       "      <th>horsepower</th>\n",
       "      <th>peak-rpm</th>\n",
       "      <th>city-mpg</th>\n",
       "      <th>highway-mpg</th>\n",
       "      <th>price</th>\n",
       "    </tr>\n",
       "  </thead>\n",
       "  <tbody>\n",
       "    <tr>\n",
       "      <th>0</th>\n",
       "      <td>3</td>\n",
       "      <td>NaN</td>\n",
       "      <td>alfa-romero</td>\n",
       "      <td>gas</td>\n",
       "      <td>std</td>\n",
       "      <td>two</td>\n",
       "      <td>convertible</td>\n",
       "      <td>rwd</td>\n",
       "      <td>front</td>\n",
       "      <td>88.6</td>\n",
       "      <td>...</td>\n",
       "      <td>130</td>\n",
       "      <td>mpfi</td>\n",
       "      <td>3.47</td>\n",
       "      <td>2.68</td>\n",
       "      <td>9.0</td>\n",
       "      <td>111.0</td>\n",
       "      <td>5000</td>\n",
       "      <td>21</td>\n",
       "      <td>27</td>\n",
       "      <td>13495.0</td>\n",
       "    </tr>\n",
       "    <tr>\n",
       "      <th>1</th>\n",
       "      <td>3</td>\n",
       "      <td>NaN</td>\n",
       "      <td>alfa-romero</td>\n",
       "      <td>gas</td>\n",
       "      <td>std</td>\n",
       "      <td>two</td>\n",
       "      <td>convertible</td>\n",
       "      <td>rwd</td>\n",
       "      <td>front</td>\n",
       "      <td>88.6</td>\n",
       "      <td>...</td>\n",
       "      <td>130</td>\n",
       "      <td>mpfi</td>\n",
       "      <td>3.47</td>\n",
       "      <td>2.68</td>\n",
       "      <td>9.0</td>\n",
       "      <td>111.0</td>\n",
       "      <td>5000</td>\n",
       "      <td>21</td>\n",
       "      <td>27</td>\n",
       "      <td>16500.0</td>\n",
       "    </tr>\n",
       "    <tr>\n",
       "      <th>2</th>\n",
       "      <td>1</td>\n",
       "      <td>NaN</td>\n",
       "      <td>alfa-romero</td>\n",
       "      <td>gas</td>\n",
       "      <td>std</td>\n",
       "      <td>two</td>\n",
       "      <td>hatchback</td>\n",
       "      <td>rwd</td>\n",
       "      <td>front</td>\n",
       "      <td>94.5</td>\n",
       "      <td>...</td>\n",
       "      <td>152</td>\n",
       "      <td>mpfi</td>\n",
       "      <td>2.68</td>\n",
       "      <td>3.47</td>\n",
       "      <td>9.0</td>\n",
       "      <td>154.0</td>\n",
       "      <td>5000</td>\n",
       "      <td>19</td>\n",
       "      <td>26</td>\n",
       "      <td>16500.0</td>\n",
       "    </tr>\n",
       "    <tr>\n",
       "      <th>3</th>\n",
       "      <td>2</td>\n",
       "      <td>164</td>\n",
       "      <td>audi</td>\n",
       "      <td>gas</td>\n",
       "      <td>std</td>\n",
       "      <td>four</td>\n",
       "      <td>sedan</td>\n",
       "      <td>fwd</td>\n",
       "      <td>front</td>\n",
       "      <td>99.8</td>\n",
       "      <td>...</td>\n",
       "      <td>109</td>\n",
       "      <td>mpfi</td>\n",
       "      <td>3.19</td>\n",
       "      <td>3.40</td>\n",
       "      <td>10.0</td>\n",
       "      <td>102.0</td>\n",
       "      <td>5500</td>\n",
       "      <td>24</td>\n",
       "      <td>30</td>\n",
       "      <td>13950.0</td>\n",
       "    </tr>\n",
       "    <tr>\n",
       "      <th>4</th>\n",
       "      <td>2</td>\n",
       "      <td>164</td>\n",
       "      <td>audi</td>\n",
       "      <td>gas</td>\n",
       "      <td>std</td>\n",
       "      <td>four</td>\n",
       "      <td>sedan</td>\n",
       "      <td>4wd</td>\n",
       "      <td>front</td>\n",
       "      <td>99.4</td>\n",
       "      <td>...</td>\n",
       "      <td>136</td>\n",
       "      <td>mpfi</td>\n",
       "      <td>3.19</td>\n",
       "      <td>3.40</td>\n",
       "      <td>8.0</td>\n",
       "      <td>115.0</td>\n",
       "      <td>5500</td>\n",
       "      <td>18</td>\n",
       "      <td>22</td>\n",
       "      <td>17450.0</td>\n",
       "    </tr>\n",
       "  </tbody>\n",
       "</table>\n",
       "<p>5 rows × 26 columns</p>\n",
       "</div>"
      ],
      "text/plain": [
       "   symboling normalized-losses         make fuel-type aspiration num-of-doors  \\\n",
       "0          3               NaN  alfa-romero       gas        std          two   \n",
       "1          3               NaN  alfa-romero       gas        std          two   \n",
       "2          1               NaN  alfa-romero       gas        std          two   \n",
       "3          2               164         audi       gas        std         four   \n",
       "4          2               164         audi       gas        std         four   \n",
       "\n",
       "    body-style drive-wheels engine-location  wheel-base  ...  engine-size  \\\n",
       "0  convertible          rwd           front        88.6  ...          130   \n",
       "1  convertible          rwd           front        88.6  ...          130   \n",
       "2    hatchback          rwd           front        94.5  ...          152   \n",
       "3        sedan          fwd           front        99.8  ...          109   \n",
       "4        sedan          4wd           front        99.4  ...          136   \n",
       "\n",
       "   fuel-system  bore  stroke compression-ratio horsepower  peak-rpm city-mpg  \\\n",
       "0         mpfi  3.47    2.68               9.0      111.0      5000       21   \n",
       "1         mpfi  3.47    2.68               9.0      111.0      5000       21   \n",
       "2         mpfi  2.68    3.47               9.0      154.0      5000       19   \n",
       "3         mpfi  3.19    3.40              10.0      102.0      5500       24   \n",
       "4         mpfi  3.19    3.40               8.0      115.0      5500       18   \n",
       "\n",
       "  highway-mpg    price  \n",
       "0          27  13495.0  \n",
       "1          27  16500.0  \n",
       "2          26  16500.0  \n",
       "3          30  13950.0  \n",
       "4          22  17450.0  \n",
       "\n",
       "[5 rows x 26 columns]"
      ]
     },
     "execution_count": 2,
     "metadata": {},
     "output_type": "execute_result"
    }
   ],
   "source": [
    "df.head()"
   ]
  },
  {
   "cell_type": "markdown",
   "id": "24759029-da4a-460f-8727-09c57c62c80d",
   "metadata": {},
   "source": [
    "## Describe method\n",
    "\n",
    "- Summarize statistics about data\n",
    "- Remember: It doesn't show statistics about categorical data by default"
   ]
  },
  {
   "cell_type": "code",
   "execution_count": 3,
   "id": "6c12fe63-afea-494b-b8be-6d2ff9b8a9a3",
   "metadata": {},
   "outputs": [
    {
     "data": {
      "text/plain": [
       "count    199.000000\n",
       "mean      25.201005\n",
       "std        6.451826\n",
       "min       13.000000\n",
       "25%       19.000000\n",
       "50%       24.000000\n",
       "75%       30.000000\n",
       "max       49.000000\n",
       "Name: city-mpg, dtype: float64"
      ]
     },
     "execution_count": 3,
     "metadata": {},
     "output_type": "execute_result"
    }
   ],
   "source": [
    "df['city-mpg'].describe()"
   ]
  },
  {
   "cell_type": "code",
   "execution_count": 4,
   "id": "701b43c1-7e0e-4e6c-a476-7550b1c8f3c5",
   "metadata": {},
   "outputs": [
    {
     "data": {
      "text/html": [
       "<div>\n",
       "<style scoped>\n",
       "    .dataframe tbody tr th:only-of-type {\n",
       "        vertical-align: middle;\n",
       "    }\n",
       "\n",
       "    .dataframe tbody tr th {\n",
       "        vertical-align: top;\n",
       "    }\n",
       "\n",
       "    .dataframe thead th {\n",
       "        text-align: right;\n",
       "    }\n",
       "</style>\n",
       "<table border=\"1\" class=\"dataframe\">\n",
       "  <thead>\n",
       "    <tr style=\"text-align: right;\">\n",
       "      <th></th>\n",
       "      <th>symboling</th>\n",
       "      <th>wheel-base</th>\n",
       "      <th>length</th>\n",
       "      <th>width</th>\n",
       "      <th>height</th>\n",
       "      <th>curb-weight</th>\n",
       "      <th>engine-size</th>\n",
       "      <th>compression-ratio</th>\n",
       "      <th>horsepower</th>\n",
       "      <th>city-mpg</th>\n",
       "      <th>highway-mpg</th>\n",
       "      <th>price</th>\n",
       "    </tr>\n",
       "  </thead>\n",
       "  <tbody>\n",
       "    <tr>\n",
       "      <th>count</th>\n",
       "      <td>199.000000</td>\n",
       "      <td>199.000000</td>\n",
       "      <td>199.000000</td>\n",
       "      <td>199.000000</td>\n",
       "      <td>199.000000</td>\n",
       "      <td>199.000000</td>\n",
       "      <td>199.000000</td>\n",
       "      <td>199.000000</td>\n",
       "      <td>199.000000</td>\n",
       "      <td>199.000000</td>\n",
       "      <td>199.000000</td>\n",
       "      <td>199.000000</td>\n",
       "    </tr>\n",
       "    <tr>\n",
       "      <th>mean</th>\n",
       "      <td>0.839196</td>\n",
       "      <td>98.824121</td>\n",
       "      <td>174.151256</td>\n",
       "      <td>65.882412</td>\n",
       "      <td>53.775879</td>\n",
       "      <td>2556.030151</td>\n",
       "      <td>126.824121</td>\n",
       "      <td>10.178995</td>\n",
       "      <td>103.396985</td>\n",
       "      <td>25.201005</td>\n",
       "      <td>30.683417</td>\n",
       "      <td>13243.432161</td>\n",
       "    </tr>\n",
       "    <tr>\n",
       "      <th>std</th>\n",
       "      <td>1.257009</td>\n",
       "      <td>6.090838</td>\n",
       "      <td>12.371905</td>\n",
       "      <td>2.110996</td>\n",
       "      <td>2.447039</td>\n",
       "      <td>519.855544</td>\n",
       "      <td>41.752932</td>\n",
       "      <td>4.022424</td>\n",
       "      <td>37.553843</td>\n",
       "      <td>6.451826</td>\n",
       "      <td>6.849410</td>\n",
       "      <td>7978.707609</td>\n",
       "    </tr>\n",
       "    <tr>\n",
       "      <th>min</th>\n",
       "      <td>-2.000000</td>\n",
       "      <td>86.600000</td>\n",
       "      <td>141.100000</td>\n",
       "      <td>60.300000</td>\n",
       "      <td>47.800000</td>\n",
       "      <td>1488.000000</td>\n",
       "      <td>61.000000</td>\n",
       "      <td>7.000000</td>\n",
       "      <td>48.000000</td>\n",
       "      <td>13.000000</td>\n",
       "      <td>16.000000</td>\n",
       "      <td>5118.000000</td>\n",
       "    </tr>\n",
       "    <tr>\n",
       "      <th>25%</th>\n",
       "      <td>0.000000</td>\n",
       "      <td>94.500000</td>\n",
       "      <td>166.550000</td>\n",
       "      <td>64.100000</td>\n",
       "      <td>52.000000</td>\n",
       "      <td>2157.000000</td>\n",
       "      <td>97.500000</td>\n",
       "      <td>8.550000</td>\n",
       "      <td>70.000000</td>\n",
       "      <td>19.000000</td>\n",
       "      <td>25.000000</td>\n",
       "      <td>7775.000000</td>\n",
       "    </tr>\n",
       "    <tr>\n",
       "      <th>50%</th>\n",
       "      <td>1.000000</td>\n",
       "      <td>97.000000</td>\n",
       "      <td>173.200000</td>\n",
       "      <td>65.500000</td>\n",
       "      <td>54.100000</td>\n",
       "      <td>2414.000000</td>\n",
       "      <td>119.000000</td>\n",
       "      <td>9.000000</td>\n",
       "      <td>95.000000</td>\n",
       "      <td>24.000000</td>\n",
       "      <td>30.000000</td>\n",
       "      <td>10345.000000</td>\n",
       "    </tr>\n",
       "    <tr>\n",
       "      <th>75%</th>\n",
       "      <td>2.000000</td>\n",
       "      <td>102.400000</td>\n",
       "      <td>183.500000</td>\n",
       "      <td>66.700000</td>\n",
       "      <td>55.550000</td>\n",
       "      <td>2930.500000</td>\n",
       "      <td>143.000000</td>\n",
       "      <td>9.400000</td>\n",
       "      <td>116.000000</td>\n",
       "      <td>30.000000</td>\n",
       "      <td>34.000000</td>\n",
       "      <td>16501.500000</td>\n",
       "    </tr>\n",
       "    <tr>\n",
       "      <th>max</th>\n",
       "      <td>3.000000</td>\n",
       "      <td>120.900000</td>\n",
       "      <td>208.100000</td>\n",
       "      <td>72.000000</td>\n",
       "      <td>59.800000</td>\n",
       "      <td>4066.000000</td>\n",
       "      <td>326.000000</td>\n",
       "      <td>23.000000</td>\n",
       "      <td>262.000000</td>\n",
       "      <td>49.000000</td>\n",
       "      <td>54.000000</td>\n",
       "      <td>45400.000000</td>\n",
       "    </tr>\n",
       "  </tbody>\n",
       "</table>\n",
       "</div>"
      ],
      "text/plain": [
       "        symboling  wheel-base      length       width      height  \\\n",
       "count  199.000000  199.000000  199.000000  199.000000  199.000000   \n",
       "mean     0.839196   98.824121  174.151256   65.882412   53.775879   \n",
       "std      1.257009    6.090838   12.371905    2.110996    2.447039   \n",
       "min     -2.000000   86.600000  141.100000   60.300000   47.800000   \n",
       "25%      0.000000   94.500000  166.550000   64.100000   52.000000   \n",
       "50%      1.000000   97.000000  173.200000   65.500000   54.100000   \n",
       "75%      2.000000  102.400000  183.500000   66.700000   55.550000   \n",
       "max      3.000000  120.900000  208.100000   72.000000   59.800000   \n",
       "\n",
       "       curb-weight  engine-size  compression-ratio  horsepower    city-mpg  \\\n",
       "count   199.000000   199.000000         199.000000  199.000000  199.000000   \n",
       "mean   2556.030151   126.824121          10.178995  103.396985   25.201005   \n",
       "std     519.855544    41.752932           4.022424   37.553843    6.451826   \n",
       "min    1488.000000    61.000000           7.000000   48.000000   13.000000   \n",
       "25%    2157.000000    97.500000           8.550000   70.000000   19.000000   \n",
       "50%    2414.000000   119.000000           9.000000   95.000000   24.000000   \n",
       "75%    2930.500000   143.000000           9.400000  116.000000   30.000000   \n",
       "max    4066.000000   326.000000          23.000000  262.000000   49.000000   \n",
       "\n",
       "       highway-mpg         price  \n",
       "count   199.000000    199.000000  \n",
       "mean     30.683417  13243.432161  \n",
       "std       6.849410   7978.707609  \n",
       "min      16.000000   5118.000000  \n",
       "25%      25.000000   7775.000000  \n",
       "50%      30.000000  10345.000000  \n",
       "75%      34.000000  16501.500000  \n",
       "max      54.000000  45400.000000  "
      ]
     },
     "execution_count": 4,
     "metadata": {},
     "output_type": "execute_result"
    }
   ],
   "source": [
    "df.describe()"
   ]
  },
  {
   "cell_type": "markdown",
   "id": "45146328-4b58-4dd3-9a9b-f9060a06e529",
   "metadata": {},
   "source": [
    "## Value counts method\n",
    "\n",
    "- This method is used for count categorical variables and show how many times each value appears\n",
    "- See this examples where we count the drive wheels\n",
    "- The values are: **Front Wheel Drive (fwd)**, **Rear Wheel Drive (rwd)** and **Four-wheel drive (4wd)**"
   ]
  },
  {
   "cell_type": "code",
   "execution_count": 5,
   "id": "096c10df-d64e-45a8-bf43-728f662c939d",
   "metadata": {},
   "outputs": [],
   "source": [
    "drive_wheels_counts = pd.DataFrame(df['drive-wheels'].value_counts())"
   ]
  },
  {
   "cell_type": "code",
   "execution_count": 6,
   "id": "cf246858-b4cf-4c82-8b43-642fb0187c20",
   "metadata": {},
   "outputs": [],
   "source": [
    "drive_wheels_counts.rename(columns={'drive-wheels': 'value_counts'}, inplace=True)\n",
    "drive_wheels_counts.index.name = 'drive-wheels'"
   ]
  },
  {
   "cell_type": "code",
   "execution_count": 7,
   "id": "b5226311-1788-48de-8a43-8561027bbe13",
   "metadata": {},
   "outputs": [
    {
     "data": {
      "text/html": [
       "<div>\n",
       "<style scoped>\n",
       "    .dataframe tbody tr th:only-of-type {\n",
       "        vertical-align: middle;\n",
       "    }\n",
       "\n",
       "    .dataframe tbody tr th {\n",
       "        vertical-align: top;\n",
       "    }\n",
       "\n",
       "    .dataframe thead th {\n",
       "        text-align: right;\n",
       "    }\n",
       "</style>\n",
       "<table border=\"1\" class=\"dataframe\">\n",
       "  <thead>\n",
       "    <tr style=\"text-align: right;\">\n",
       "      <th></th>\n",
       "      <th>value_counts</th>\n",
       "    </tr>\n",
       "    <tr>\n",
       "      <th>drive-wheels</th>\n",
       "      <th></th>\n",
       "    </tr>\n",
       "  </thead>\n",
       "  <tbody>\n",
       "    <tr>\n",
       "      <th>fwd</th>\n",
       "      <td>116</td>\n",
       "    </tr>\n",
       "    <tr>\n",
       "      <th>rwd</th>\n",
       "      <td>75</td>\n",
       "    </tr>\n",
       "    <tr>\n",
       "      <th>4wd</th>\n",
       "      <td>8</td>\n",
       "    </tr>\n",
       "  </tbody>\n",
       "</table>\n",
       "</div>"
      ],
      "text/plain": [
       "              value_counts\n",
       "drive-wheels              \n",
       "fwd                    116\n",
       "rwd                     75\n",
       "4wd                      8"
      ]
     },
     "execution_count": 7,
     "metadata": {},
     "output_type": "execute_result"
    }
   ],
   "source": [
    "drive_wheels_counts"
   ]
  },
  {
   "cell_type": "markdown",
   "id": "fcf4e112-1f60-4909-bcd6-a9205cb646ff",
   "metadata": {},
   "source": [
    "We can see the Front Wheel Drive are the most commum in the data frame"
   ]
  },
  {
   "cell_type": "markdown",
   "id": "80c1c8b8-3eba-45db-930d-723afd959fe4",
   "metadata": {},
   "source": [
    "## Box plots\n",
    "\n",
    "- A way to visualize descriptive statistics\n",
    "- Using a box plot we visualize:"
   ]
  },
  {
   "cell_type": "markdown",
   "id": "63d11376-53b8-4f18-a086-a00ea5ede06c",
   "metadata": {},
   "source": [
    "<center>\n",
    "    <img src=\"https://www.wellbeingatschool.org.nz/sites/default/files/W@S_boxplot-labels.png\" alt=\"box plot image explanation (https://www.wellbeingatschool.org.nz/information-sheet/understanding-and-interpreting-box-plots#:~:text=Box%20plots%20are%20used%20to,responses%20for%20a%20large%20group.)\" width=\"500\" height=\"600\">\n",
    "</center>"
   ]
  },
  {
   "cell_type": "markdown",
   "id": "2ccdb6ca-7d8b-4abb-9bef-16ddd55c7f79",
   "metadata": {},
   "source": [
    "Also, it's possible to visualize outliers. They appear out the lower or upper whisker\n",
    "\n",
    "See the example above"
   ]
  },
  {
   "cell_type": "code",
   "execution_count": 8,
   "id": "c9bcabd0-3cb5-45d5-ae49-9dd772cc3573",
   "metadata": {},
   "outputs": [
    {
     "data": {
      "text/plain": [
       "<AxesSubplot:xlabel='drive-wheels', ylabel='price'>"
      ]
     },
     "execution_count": 8,
     "metadata": {},
     "output_type": "execute_result"
    },
    {
     "data": {
      "image/png": "[encoded data removed]",
      "text/plain": [
       "<Figure size 432x288 with 1 Axes>"
      ]
     },
     "metadata": {
      "needs_background": "light"
     },
     "output_type": "display_data"
    }
   ],
   "source": [
    "import seaborn as sns\n",
    "\n",
    "sns.boxplot(x='drive-wheels', y='price', data=df)"
   ]
  },
  {
   "cell_type": "markdown",
   "id": "7ddea80e-8764-454e-87f7-cfb93db3d742",
   "metadata": {},
   "source": [
    "## Scatter Plot\n",
    "\n",
    "- Point representation is used\n",
    "- Show relationship between two variables\n",
    "\n",
    "**Variables description:**\n",
    "\n",
    "1. **Predictor/independent** variable on x-axis\n",
    "2. **Target/dependent** variable on y-axis"
   ]
  },
  {
   "cell_type": "code",
   "execution_count": 9,
   "id": "8282d597-1ac9-43f9-8dfc-7f44cc13ada5",
   "metadata": {},
   "outputs": [
    {
     "data": {
      "text/plain": [
       "<matplotlib.collections.PathCollection at 0x7f6e33da3070>"
      ]
     },
     "execution_count": 9,
     "metadata": {},
     "output_type": "execute_result"
    },
    {
     "data": {
      "image/png": "[encoded data removed]",
      "text/plain": [
       "<Figure size 432x288 with 1 Axes>"
      ]
     },
     "metadata": {
      "needs_background": "light"
     },
     "output_type": "display_data"
    }
   ],
   "source": [
    "import matplotlib.pyplot as plt\n",
    "\n",
    "y = df['engine-size']\n",
    "x = df['price']\n",
    "plt.scatter(x, y)"
   ]
  },
  {
   "cell_type": "markdown",
   "id": "96aeb826-fd92-4545-9450-f7b4ddb043db",
   "metadata": {},
   "source": [
    "## Grouping Data\n",
    "\n",
    "- Relationship between different types of data\n",
    "- A great way to observate it, it's using grouping data techniques"
   ]
  },
  {
   "cell_type": "markdown",
   "id": "a6453f58-1ac7-4bda-a809-38ce060ad138",
   "metadata": {},
   "source": [
    "In python, we can use the `dataframe.groupby()` method:\n",
    "- Can be applied in categorical variables\n",
    "- Group data into categories\n",
    "- Single or multiple variables"
   ]
  },
  {
   "cell_type": "markdown",
   "id": "376c9436-f6ac-41e2-933a-6ca625647597",
   "metadata": {},
   "source": [
    "### Example \n",
    "\n",
    "Find the average price of vehicles and observe how they differ between different types of body styles and drive wheels variables"
   ]
  },
  {
   "cell_type": "code",
   "execution_count": 10,
   "id": "2a833f45-dcc9-4508-bda4-e178c43ab85d",
   "metadata": {},
   "outputs": [
    {
     "data": {
      "text/html": [
       "<div>\n",
       "<style scoped>\n",
       "    .dataframe tbody tr th:only-of-type {\n",
       "        vertical-align: middle;\n",
       "    }\n",
       "\n",
       "    .dataframe tbody tr th {\n",
       "        vertical-align: top;\n",
       "    }\n",
       "\n",
       "    .dataframe thead th {\n",
       "        text-align: right;\n",
       "    }\n",
       "</style>\n",
       "<table border=\"1\" class=\"dataframe\">\n",
       "  <thead>\n",
       "    <tr style=\"text-align: right;\">\n",
       "      <th></th>\n",
       "      <th>drive-wheels</th>\n",
       "      <th>body-style</th>\n",
       "      <th>price</th>\n",
       "    </tr>\n",
       "  </thead>\n",
       "  <tbody>\n",
       "    <tr>\n",
       "      <th>0</th>\n",
       "      <td>rwd</td>\n",
       "      <td>convertible</td>\n",
       "      <td>13495.0</td>\n",
       "    </tr>\n",
       "    <tr>\n",
       "      <th>1</th>\n",
       "      <td>rwd</td>\n",
       "      <td>convertible</td>\n",
       "      <td>16500.0</td>\n",
       "    </tr>\n",
       "    <tr>\n",
       "      <th>2</th>\n",
       "      <td>rwd</td>\n",
       "      <td>hatchback</td>\n",
       "      <td>16500.0</td>\n",
       "    </tr>\n",
       "    <tr>\n",
       "      <th>3</th>\n",
       "      <td>fwd</td>\n",
       "      <td>sedan</td>\n",
       "      <td>13950.0</td>\n",
       "    </tr>\n",
       "    <tr>\n",
       "      <th>4</th>\n",
       "      <td>4wd</td>\n",
       "      <td>sedan</td>\n",
       "      <td>17450.0</td>\n",
       "    </tr>\n",
       "  </tbody>\n",
       "</table>\n",
       "</div>"
      ],
      "text/plain": [
       "  drive-wheels   body-style    price\n",
       "0          rwd  convertible  13495.0\n",
       "1          rwd  convertible  16500.0\n",
       "2          rwd    hatchback  16500.0\n",
       "3          fwd        sedan  13950.0\n",
       "4          4wd        sedan  17450.0"
      ]
     },
     "execution_count": 10,
     "metadata": {},
     "output_type": "execute_result"
    }
   ],
   "source": [
    "df_test = df[['drive-wheels', 'body-style', 'price']]\n",
    "df_test.head()"
   ]
  },
  {
   "cell_type": "code",
   "execution_count": 11,
   "id": "392a5093-86a3-4420-9731-60293d46c532",
   "metadata": {},
   "outputs": [],
   "source": [
    "df_grp = df_test.groupby(\n",
    "    ['drive-wheels', 'body-style'], as_index=False).mean()"
   ]
  },
  {
   "cell_type": "code",
   "execution_count": 12,
   "id": "3440e137-0eec-4f01-add3-42e205964a50",
   "metadata": {},
   "outputs": [
    {
     "data": {
      "text/html": [
       "<div>\n",
       "<style scoped>\n",
       "    .dataframe tbody tr th:only-of-type {\n",
       "        vertical-align: middle;\n",
       "    }\n",
       "\n",
       "    .dataframe tbody tr th {\n",
       "        vertical-align: top;\n",
       "    }\n",
       "\n",
       "    .dataframe thead th {\n",
       "        text-align: right;\n",
       "    }\n",
       "</style>\n",
       "<table border=\"1\" class=\"dataframe\">\n",
       "  <thead>\n",
       "    <tr style=\"text-align: right;\">\n",
       "      <th></th>\n",
       "      <th>drive-wheels</th>\n",
       "      <th>body-style</th>\n",
       "      <th>price</th>\n",
       "    </tr>\n",
       "  </thead>\n",
       "  <tbody>\n",
       "    <tr>\n",
       "      <th>0</th>\n",
       "      <td>4wd</td>\n",
       "      <td>hatchback</td>\n",
       "      <td>7603.000000</td>\n",
       "    </tr>\n",
       "    <tr>\n",
       "      <th>1</th>\n",
       "      <td>4wd</td>\n",
       "      <td>sedan</td>\n",
       "      <td>12647.333333</td>\n",
       "    </tr>\n",
       "    <tr>\n",
       "      <th>2</th>\n",
       "      <td>4wd</td>\n",
       "      <td>wagon</td>\n",
       "      <td>9095.750000</td>\n",
       "    </tr>\n",
       "    <tr>\n",
       "      <th>3</th>\n",
       "      <td>fwd</td>\n",
       "      <td>convertible</td>\n",
       "      <td>11595.000000</td>\n",
       "    </tr>\n",
       "    <tr>\n",
       "      <th>4</th>\n",
       "      <td>fwd</td>\n",
       "      <td>hardtop</td>\n",
       "      <td>8249.000000</td>\n",
       "    </tr>\n",
       "    <tr>\n",
       "      <th>5</th>\n",
       "      <td>fwd</td>\n",
       "      <td>hatchback</td>\n",
       "      <td>8365.166667</td>\n",
       "    </tr>\n",
       "    <tr>\n",
       "      <th>6</th>\n",
       "      <td>fwd</td>\n",
       "      <td>sedan</td>\n",
       "      <td>9811.800000</td>\n",
       "    </tr>\n",
       "    <tr>\n",
       "      <th>7</th>\n",
       "      <td>fwd</td>\n",
       "      <td>wagon</td>\n",
       "      <td>10061.181818</td>\n",
       "    </tr>\n",
       "    <tr>\n",
       "      <th>8</th>\n",
       "      <td>rwd</td>\n",
       "      <td>convertible</td>\n",
       "      <td>23949.600000</td>\n",
       "    </tr>\n",
       "    <tr>\n",
       "      <th>9</th>\n",
       "      <td>rwd</td>\n",
       "      <td>hardtop</td>\n",
       "      <td>24202.714286</td>\n",
       "    </tr>\n",
       "    <tr>\n",
       "      <th>10</th>\n",
       "      <td>rwd</td>\n",
       "      <td>hatchback</td>\n",
       "      <td>14337.777778</td>\n",
       "    </tr>\n",
       "    <tr>\n",
       "      <th>11</th>\n",
       "      <td>rwd</td>\n",
       "      <td>sedan</td>\n",
       "      <td>21711.833333</td>\n",
       "    </tr>\n",
       "    <tr>\n",
       "      <th>12</th>\n",
       "      <td>rwd</td>\n",
       "      <td>wagon</td>\n",
       "      <td>16994.222222</td>\n",
       "    </tr>\n",
       "  </tbody>\n",
       "</table>\n",
       "</div>"
      ],
      "text/plain": [
       "   drive-wheels   body-style         price\n",
       "0           4wd    hatchback   7603.000000\n",
       "1           4wd        sedan  12647.333333\n",
       "2           4wd        wagon   9095.750000\n",
       "3           fwd  convertible  11595.000000\n",
       "4           fwd      hardtop   8249.000000\n",
       "5           fwd    hatchback   8365.166667\n",
       "6           fwd        sedan   9811.800000\n",
       "7           fwd        wagon  10061.181818\n",
       "8           rwd  convertible  23949.600000\n",
       "9           rwd      hardtop  24202.714286\n",
       "10          rwd    hatchback  14337.777778\n",
       "11          rwd        sedan  21711.833333\n",
       "12          rwd        wagon  16994.222222"
      ]
     },
     "execution_count": 12,
     "metadata": {},
     "output_type": "execute_result"
    }
   ],
   "source": [
    "df_grp"
   ]
  },
  {
   "cell_type": "markdown",
   "id": "04d353c5-34d6-456d-b854-7e22c9e9a42f",
   "metadata": {},
   "source": [
    "## Pivot tables\n",
    "\n",
    "- One variable displayed along the columns and the other variable displayed along the rows"
   ]
  },
  {
   "cell_type": "code",
   "execution_count": 13,
   "id": "662c4ec6-5b11-4f46-bf61-7fa2b5d72607",
   "metadata": {},
   "outputs": [],
   "source": [
    "df_pivot = df_grp.pivot(\n",
    "    index='drive-wheels', \n",
    "    columns='body-style'\n",
    ")"
   ]
  },
  {
   "cell_type": "code",
   "execution_count": 14,
   "id": "c041eb20-01fb-446b-b1bb-e1acece8e8ec",
   "metadata": {},
   "outputs": [
    {
     "data": {
      "text/html": [
       "<div>\n",
       "<style scoped>\n",
       "    .dataframe tbody tr th:only-of-type {\n",
       "        vertical-align: middle;\n",
       "    }\n",
       "\n",
       "    .dataframe tbody tr th {\n",
       "        vertical-align: top;\n",
       "    }\n",
       "\n",
       "    .dataframe thead tr th {\n",
       "        text-align: left;\n",
       "    }\n",
       "\n",
       "    .dataframe thead tr:last-of-type th {\n",
       "        text-align: right;\n",
       "    }\n",
       "</style>\n",
       "<table border=\"1\" class=\"dataframe\">\n",
       "  <thead>\n",
       "    <tr>\n",
       "      <th></th>\n",
       "      <th colspan=\"5\" halign=\"left\">price</th>\n",
       "    </tr>\n",
       "    <tr>\n",
       "      <th>body-style</th>\n",
       "      <th>convertible</th>\n",
       "      <th>hardtop</th>\n",
       "      <th>hatchback</th>\n",
       "      <th>sedan</th>\n",
       "      <th>wagon</th>\n",
       "    </tr>\n",
       "    <tr>\n",
       "      <th>drive-wheels</th>\n",
       "      <th></th>\n",
       "      <th></th>\n",
       "      <th></th>\n",
       "      <th></th>\n",
       "      <th></th>\n",
       "    </tr>\n",
       "  </thead>\n",
       "  <tbody>\n",
       "    <tr>\n",
       "      <th>4wd</th>\n",
       "      <td>NaN</td>\n",
       "      <td>NaN</td>\n",
       "      <td>7603.000000</td>\n",
       "      <td>12647.333333</td>\n",
       "      <td>9095.750000</td>\n",
       "    </tr>\n",
       "    <tr>\n",
       "      <th>fwd</th>\n",
       "      <td>11595.0</td>\n",
       "      <td>8249.000000</td>\n",
       "      <td>8365.166667</td>\n",
       "      <td>9811.800000</td>\n",
       "      <td>10061.181818</td>\n",
       "    </tr>\n",
       "    <tr>\n",
       "      <th>rwd</th>\n",
       "      <td>23949.6</td>\n",
       "      <td>24202.714286</td>\n",
       "      <td>14337.777778</td>\n",
       "      <td>21711.833333</td>\n",
       "      <td>16994.222222</td>\n",
       "    </tr>\n",
       "  </tbody>\n",
       "</table>\n",
       "</div>"
      ],
      "text/plain": [
       "                   price                                            \\\n",
       "body-style   convertible       hardtop     hatchback         sedan   \n",
       "drive-wheels                                                         \n",
       "4wd                  NaN           NaN   7603.000000  12647.333333   \n",
       "fwd              11595.0   8249.000000   8365.166667   9811.800000   \n",
       "rwd              23949.6  24202.714286  14337.777778  21711.833333   \n",
       "\n",
       "                            \n",
       "body-style           wagon  \n",
       "drive-wheels                \n",
       "4wd            9095.750000  \n",
       "fwd           10061.181818  \n",
       "rwd           16994.222222  "
      ]
     },
     "execution_count": 14,
     "metadata": {},
     "output_type": "execute_result"
    }
   ],
   "source": [
    "df_pivot"
   ]
  },
  {
   "cell_type": "code",
   "execution_count": 15,
   "id": "492e6a9c-a459-432d-b00e-e2bad75fb32d",
   "metadata": {},
   "outputs": [
    {
     "data": {
      "text/plain": [
       "MultiIndex([('price', 'convertible'),\n",
       "            ('price',     'hardtop'),\n",
       "            ('price',   'hatchback'),\n",
       "            ('price',       'sedan'),\n",
       "            ('price',       'wagon')],\n",
       "           names=[None, 'body-style'])"
      ]
     },
     "execution_count": 15,
     "metadata": {},
     "output_type": "execute_result"
    }
   ],
   "source": [
    "df_pivot.columns"
   ]
  },
  {
   "cell_type": "code",
   "execution_count": 16,
   "id": "190d47d1-84d6-4c86-b36c-362d4d2dfb9d",
   "metadata": {},
   "outputs": [
    {
     "data": {
      "text/plain": [
       "Index(['4wd', 'fwd', 'rwd'], dtype='object', name='drive-wheels')"
      ]
     },
     "execution_count": 16,
     "metadata": {},
     "output_type": "execute_result"
    }
   ],
   "source": [
    "df_pivot.index"
   ]
  },
  {
   "cell_type": "code",
   "execution_count": 17,
   "id": "33a511e4-789e-4059-b1d1-e1c646d874ff",
   "metadata": {},
   "outputs": [
    {
     "name": "stdout",
     "output_type": "stream",
     "text": [
      "<class 'pandas.core.frame.DataFrame'>\n",
      "Index: 3 entries, 4wd to rwd\n",
      "Data columns (total 5 columns):\n",
      " #   Column                Non-Null Count  Dtype  \n",
      "---  ------                --------------  -----  \n",
      " 0   (price, convertible)  2 non-null      float64\n",
      " 1   (price, hardtop)      2 non-null      float64\n",
      " 2   (price, hatchback)    3 non-null      float64\n",
      " 3   (price, sedan)        3 non-null      float64\n",
      " 4   (price, wagon)        3 non-null      float64\n",
      "dtypes: float64(5)\n",
      "memory usage: 144.0+ bytes\n"
     ]
    }
   ],
   "source": [
    "df_pivot.info()"
   ]
  },
  {
   "cell_type": "markdown",
   "id": "b5d0c960-fccf-49a2-a879-b3f7cf7c9e44",
   "metadata": {},
   "source": [
    "## Heatmap\n",
    "\n",
    "- Another way to pivot tables\n",
    "- Plot target variables over multiple variables"
   ]
  },
  {
   "cell_type": "code",
   "execution_count": 18,
   "id": "914019c2-9973-40a8-a4be-8ce18b59459c",
   "metadata": {},
   "outputs": [
    {
     "data": {
      "image/png": "[encoded data removed]",
      "text/plain": [
       "<Figure size 432x288 with 2 Axes>"
      ]
     },
     "metadata": {
      "needs_background": "light"
     },
     "output_type": "display_data"
    }
   ],
   "source": [
    "plt.pcolor(df_pivot, cmap='RdBu')\n",
    "plt.colorbar()\n",
    "plt.show()"
   ]
  },
  {
   "cell_type": "markdown",
   "id": "972804de-d91b-4c32-b77c-5fbee9f37c01",
   "metadata": {},
   "source": [
    "## Analisys of Variance (ANOVA)\n",
    "\n",
    "- Statistical comparison of groups\n",
    "- Example: average price of different vehicle makes\n",
    "\n",
    "### Why do we perform ANOVA?\n",
    "- Finding correlation between different groups of a categorical variable\n",
    "\n",
    "### What we obtain from ANOVA?\n",
    "- F-test score: variation between sample group means divided by variation whithin sample group\n",
    "- p-value: confidence degree"
   ]
  },
  {
   "cell_type": "code",
   "execution_count": 19,
   "id": "7d8511a7-b587-4ed6-987c-2dcf63dedd09",
   "metadata": {},
   "outputs": [],
   "source": [
    "df_anova = df[['make', 'price']]\n",
    "grouped_anova = df_anova.groupby(['make'])"
   ]
  },
  {
   "cell_type": "code",
   "execution_count": 20,
   "id": "30efcb82-dd65-4993-93c9-4fb6565eb375",
   "metadata": {},
   "outputs": [],
   "source": [
    "from scipy import stats\n",
    "anova_result_1 = stats.f_oneway(\n",
    "    grouped_anova.get_group(\"honda\")['price'], \n",
    "    grouped_anova.get_group('subaru')['price']\n",
    ")"
   ]
  },
  {
   "cell_type": "code",
   "execution_count": 21,
   "id": "cb84eccf-5c27-4c37-b4c9-dbe02e9ed7cd",
   "metadata": {},
   "outputs": [
    {
     "data": {
      "text/plain": [
       "F_onewayResult(statistic=0.19744030127462606, pvalue=0.6609478240622193)"
      ]
     },
     "execution_count": 21,
     "metadata": {},
     "output_type": "execute_result"
    }
   ],
   "source": [
    "anova_result_1"
   ]
  },
  {
   "cell_type": "code",
   "execution_count": 22,
   "id": "2c19e784-e671-42e4-add2-80c1e9e46958",
   "metadata": {},
   "outputs": [],
   "source": [
    "anova_result_2 = stats.f_oneway(\n",
    "    grouped_anova.get_group('honda')['price'],\n",
    "    grouped_anova.get_group('jaguar')['price']\n",
    ")"
   ]
  },
  {
   "cell_type": "code",
   "execution_count": 23,
   "id": "78b08c8d-d9c4-492b-bcf7-5651aa55a90b",
   "metadata": {},
   "outputs": [
    {
     "data": {
      "text/plain": [
       "F_onewayResult(statistic=400.925870564337, pvalue=1.0586193512077862e-11)"
      ]
     },
     "execution_count": 23,
     "metadata": {},
     "output_type": "execute_result"
    }
   ],
   "source": [
    "anova_result_2"
   ]
  },
  {
   "cell_type": "markdown",
   "id": "dad4d137-aaa0-4c37-876b-785503c3816f",
   "metadata": {},
   "source": [
    "## Correlation\n",
    "\n",
    "- Measures to what extent different variables are interdependent\n",
    "- Example: \n",
    "    - Lung Cancer $\\to$ Smoking\n",
    "    - Rain $\\to$ Umbrella\n",
    "    \n",
    "- Correlation doesn't imply causation!"
   ]
  },
  {
   "cell_type": "markdown",
   "id": "1bf6e889-f23d-4fba-a0cb-e9d6c12fab0f",
   "metadata": {},
   "source": [
    "### Example 1 - Positive Linear Relationship\n",
    "\n",
    "Visualizing correlation between engine size and price"
   ]
  },
  {
   "cell_type": "code",
   "execution_count": 24,
   "id": "6f1927c7-ab65-4a80-8651-7b03d623051c",
   "metadata": {},
   "outputs": [
    {
     "data": {
      "text/html": [
       "<div>\n",
       "<style scoped>\n",
       "    .dataframe tbody tr th:only-of-type {\n",
       "        vertical-align: middle;\n",
       "    }\n",
       "\n",
       "    .dataframe tbody tr th {\n",
       "        vertical-align: top;\n",
       "    }\n",
       "\n",
       "    .dataframe thead th {\n",
       "        text-align: right;\n",
       "    }\n",
       "</style>\n",
       "<table border=\"1\" class=\"dataframe\">\n",
       "  <thead>\n",
       "    <tr style=\"text-align: right;\">\n",
       "      <th></th>\n",
       "      <th>engine-size</th>\n",
       "      <th>price</th>\n",
       "    </tr>\n",
       "  </thead>\n",
       "  <tbody>\n",
       "    <tr>\n",
       "      <th>0</th>\n",
       "      <td>130</td>\n",
       "      <td>13495.0</td>\n",
       "    </tr>\n",
       "    <tr>\n",
       "      <th>1</th>\n",
       "      <td>130</td>\n",
       "      <td>16500.0</td>\n",
       "    </tr>\n",
       "    <tr>\n",
       "      <th>2</th>\n",
       "      <td>152</td>\n",
       "      <td>16500.0</td>\n",
       "    </tr>\n",
       "    <tr>\n",
       "      <th>3</th>\n",
       "      <td>109</td>\n",
       "      <td>13950.0</td>\n",
       "    </tr>\n",
       "    <tr>\n",
       "      <th>4</th>\n",
       "      <td>136</td>\n",
       "      <td>17450.0</td>\n",
       "    </tr>\n",
       "  </tbody>\n",
       "</table>\n",
       "</div>"
      ],
      "text/plain": [
       "   engine-size    price\n",
       "0          130  13495.0\n",
       "1          130  16500.0\n",
       "2          152  16500.0\n",
       "3          109  13950.0\n",
       "4          136  17450.0"
      ]
     },
     "execution_count": 24,
     "metadata": {},
     "output_type": "execute_result"
    }
   ],
   "source": [
    "df[['engine-size', 'price']].head()"
   ]
  },
  {
   "cell_type": "code",
   "execution_count": 25,
   "id": "85a95a8c-b8df-4f01-b868-7d9bc7192924",
   "metadata": {},
   "outputs": [
    {
     "data": {
      "text/plain": [
       "(0.0, 53432.14265454957)"
      ]
     },
     "execution_count": 25,
     "metadata": {},
     "output_type": "execute_result"
    },
    {
     "data": {
      "image/png": "[encoded data removed]",
      "text/plain": [
       "<Figure size 432x288 with 1 Axes>"
      ]
     },
     "metadata": {
      "needs_background": "light"
     },
     "output_type": "display_data"
    }
   ],
   "source": [
    "import seaborn as sns\n",
    "\n",
    "sns.regplot(x='engine-size', y='price', data=df)\n",
    "plt.ylim(0,)"
   ]
  },
  {
   "cell_type": "markdown",
   "id": "ce208fd0-1127-422c-9464-431a3e71d96e",
   "metadata": {},
   "source": [
    "As much engine size get increased, price willl be incresead as well! It shows there's a positivive correltion between these two variables"
   ]
  },
  {
   "cell_type": "markdown",
   "id": "044bdb4b-5315-4ce3-b1be-f6e5e3ed5b83",
   "metadata": {},
   "source": [
    "### Example 2 - Negative Linear Relationship\n",
    "\n",
    "Correlation between highway-mpg and price"
   ]
  },
  {
   "cell_type": "code",
   "execution_count": 26,
   "id": "9d79d2fb-747b-45c3-a19f-e95910d05244",
   "metadata": {},
   "outputs": [
    {
     "data": {
      "text/html": [
       "<div>\n",
       "<style scoped>\n",
       "    .dataframe tbody tr th:only-of-type {\n",
       "        vertical-align: middle;\n",
       "    }\n",
       "\n",
       "    .dataframe tbody tr th {\n",
       "        vertical-align: top;\n",
       "    }\n",
       "\n",
       "    .dataframe thead th {\n",
       "        text-align: right;\n",
       "    }\n",
       "</style>\n",
       "<table border=\"1\" class=\"dataframe\">\n",
       "  <thead>\n",
       "    <tr style=\"text-align: right;\">\n",
       "      <th></th>\n",
       "      <th>highway-mpg</th>\n",
       "      <th>price</th>\n",
       "    </tr>\n",
       "  </thead>\n",
       "  <tbody>\n",
       "    <tr>\n",
       "      <th>0</th>\n",
       "      <td>27</td>\n",
       "      <td>13495.0</td>\n",
       "    </tr>\n",
       "    <tr>\n",
       "      <th>1</th>\n",
       "      <td>27</td>\n",
       "      <td>16500.0</td>\n",
       "    </tr>\n",
       "    <tr>\n",
       "      <th>2</th>\n",
       "      <td>26</td>\n",
       "      <td>16500.0</td>\n",
       "    </tr>\n",
       "    <tr>\n",
       "      <th>3</th>\n",
       "      <td>30</td>\n",
       "      <td>13950.0</td>\n",
       "    </tr>\n",
       "    <tr>\n",
       "      <th>4</th>\n",
       "      <td>22</td>\n",
       "      <td>17450.0</td>\n",
       "    </tr>\n",
       "  </tbody>\n",
       "</table>\n",
       "</div>"
      ],
      "text/plain": [
       "   highway-mpg    price\n",
       "0           27  13495.0\n",
       "1           27  16500.0\n",
       "2           26  16500.0\n",
       "3           30  13950.0\n",
       "4           22  17450.0"
      ]
     },
     "execution_count": 26,
     "metadata": {},
     "output_type": "execute_result"
    }
   ],
   "source": [
    "df[['highway-mpg', 'price']].head()"
   ]
  },
  {
   "cell_type": "code",
   "execution_count": 27,
   "id": "e58d579a-0a41-4ce7-bdf3-f8dc72b9eec7",
   "metadata": {},
   "outputs": [
    {
     "data": {
      "text/plain": [
       "(0.0, 48172.278055568764)"
      ]
     },
     "execution_count": 27,
     "metadata": {},
     "output_type": "execute_result"
    },
    {
     "data": {
      "image/png": "[encoded data removed]",
      "text/plain": [
       "<Figure size 432x288 with 1 Axes>"
      ]
     },
     "metadata": {
      "needs_background": "light"
     },
     "output_type": "display_data"
    }
   ],
   "source": [
    "sns.regplot(x='highway-mpg', y='price', data=df)\n",
    "plt.ylim(0,)"
   ]
  },
  {
   "cell_type": "markdown",
   "id": "0a58a079-9483-4cf3-addd-d401fbfdcf22",
   "metadata": {},
   "source": [
    "When highway mpg goes up, price goes down, so there's a negative relationship between these variables"
   ]
  },
  {
   "cell_type": "markdown",
   "id": "bd731ef8-ddfa-4bdf-af3e-10f8168243b7",
   "metadata": {},
   "source": [
    "### Example 3 - Negative Linear Relationship\n",
    "\n",
    "Week correlation between peak-rpm and price"
   ]
  },
  {
   "cell_type": "code",
   "execution_count": 28,
   "id": "79d73e0c-8a81-45d4-8ffc-0e76e862d59d",
   "metadata": {},
   "outputs": [
    {
     "data": {
      "text/html": [
       "<div>\n",
       "<style scoped>\n",
       "    .dataframe tbody tr th:only-of-type {\n",
       "        vertical-align: middle;\n",
       "    }\n",
       "\n",
       "    .dataframe tbody tr th {\n",
       "        vertical-align: top;\n",
       "    }\n",
       "\n",
       "    .dataframe thead th {\n",
       "        text-align: right;\n",
       "    }\n",
       "</style>\n",
       "<table border=\"1\" class=\"dataframe\">\n",
       "  <thead>\n",
       "    <tr style=\"text-align: right;\">\n",
       "      <th></th>\n",
       "      <th>peak-rpm</th>\n",
       "      <th>price</th>\n",
       "    </tr>\n",
       "  </thead>\n",
       "  <tbody>\n",
       "    <tr>\n",
       "      <th>0</th>\n",
       "      <td>5000.0</td>\n",
       "      <td>13495.0</td>\n",
       "    </tr>\n",
       "    <tr>\n",
       "      <th>1</th>\n",
       "      <td>5000.0</td>\n",
       "      <td>16500.0</td>\n",
       "    </tr>\n",
       "    <tr>\n",
       "      <th>2</th>\n",
       "      <td>5000.0</td>\n",
       "      <td>16500.0</td>\n",
       "    </tr>\n",
       "    <tr>\n",
       "      <th>3</th>\n",
       "      <td>5500.0</td>\n",
       "      <td>13950.0</td>\n",
       "    </tr>\n",
       "    <tr>\n",
       "      <th>4</th>\n",
       "      <td>5500.0</td>\n",
       "      <td>17450.0</td>\n",
       "    </tr>\n",
       "  </tbody>\n",
       "</table>\n",
       "</div>"
      ],
      "text/plain": [
       "   peak-rpm    price\n",
       "0    5000.0  13495.0\n",
       "1    5000.0  16500.0\n",
       "2    5000.0  16500.0\n",
       "3    5500.0  13950.0\n",
       "4    5500.0  17450.0"
      ]
     },
     "execution_count": 28,
     "metadata": {},
     "output_type": "execute_result"
    }
   ],
   "source": [
    "df['peak-rpm'] = df['peak-rpm'].astype(float)\n",
    "df[['peak-rpm', 'price']].head()"
   ]
  },
  {
   "cell_type": "code",
   "execution_count": 29,
   "id": "d0289aa9-c74f-4baf-b8ee-625f54899711",
   "metadata": {},
   "outputs": [
    {
     "data": {
      "text/plain": [
       "(0.0, 47414.1)"
      ]
     },
     "execution_count": 29,
     "metadata": {},
     "output_type": "execute_result"
    },
    {
     "data": {
      "image/png": "[encoded data removed]",
      "text/plain": [
       "<Figure size 432x288 with 1 Axes>"
      ]
     },
     "metadata": {
      "needs_background": "light"
     },
     "output_type": "display_data"
    }
   ],
   "source": [
    "sns.regplot(x='peak-rpm', y='price', data=df)\n",
    "plt.ylim(0,)"
   ]
  },
  {
   "cell_type": "markdown",
   "id": "b3741cff-0b47-423e-8b0b-ec8f95fb118c",
   "metadata": {},
   "source": [
    "Here, since the correlation between peak-rpm and price is weak, then we shouldn't use peak-rpm to predict prices"
   ]
  },
  {
   "cell_type": "markdown",
   "id": "5ae5cf47-7638-4298-b776-cb804fc74953",
   "metadata": {},
   "source": [
    "## Pearson Correlation\n",
    "\n",
    "- Measure the strength of the correlation between two features\n",
    "    - Correlation coeffiecient\n",
    "        - Close to +1: large positive relationship\n",
    "        - Close to -1: large negative relationship\n",
    "        - Close to 0: No relationship\n",
    "    - P-value\n",
    "        - P-value < 0.001: **Strong** certainty in the result\n",
    "        - P-value < 0.05 : Moderate certainty in the result\n",
    "        - P-value < 0.1  : Weak certainty in the result\n",
    "        - P-value > 0.1  : No certainty in the result\n",
    "    \n",
    "- Strong correlation\n",
    "    - Correlation coefficient close to 1 or -1\n",
    "    - P value less than 0.001\n",
    "    "
   ]
  },
  {
   "cell_type": "markdown",
   "id": "7bbe14bc-af5c-4684-b14f-eca96f111af8",
   "metadata": {},
   "source": [
    "### Example 1"
   ]
  },
  {
   "cell_type": "code",
   "execution_count": 142,
   "id": "c1198482-5b69-46b7-9511-8b8ce86c2c83",
   "metadata": {},
   "outputs": [],
   "source": [
    "from scipy import stats\n",
    "\n",
    "pearson_coef, p_value = stats.pearsonr(df['horsepower'], df['price'])"
   ]
  },
  {
   "cell_type": "code",
   "execution_count": 145,
   "id": "b07bd526-ce13-4776-8fbe-f1ab70e25f95",
   "metadata": {},
   "outputs": [
    {
     "name": "stdout",
     "output_type": "stream",
     "text": [
      "Pearson correlation: 0.8105330821322061\n",
      "P-value: 1.189127827694731e-47\n"
     ]
    }
   ],
   "source": [
    "print('Pearson correlation: {}'.format(pearson_coef))\n",
    "print('P-value: {}'.format(p_value))"
   ]
  },
  {
   "cell_type": "code",
   "execution_count": 146,
   "id": "24bf9641-0b91-4fee-af0b-5b366fa7af61",
   "metadata": {},
   "outputs": [
    {
     "data": {
      "text/plain": [
       "True"
      ]
     },
     "execution_count": 146,
     "metadata": {},
     "output_type": "execute_result"
    }
   ],
   "source": [
    " 1.189127827694731e-47 < 0.001"
   ]
  },
  {
   "cell_type": "markdown",
   "id": "be375ee8-289e-4ecb-9a8b-9665192facea",
   "metadata": {},
   "source": [
    "Conclusion: there's a strong positive correlation between the horsepower and price"
   ]
  },
  {
   "cell_type": "code",
   "execution_count": 148,
   "id": "970211d6-26fd-44b6-a989-72cd7bd9b262",
   "metadata": {},
   "outputs": [
    {
     "data": {
      "text/html": [
       "<div>\n",
       "<style scoped>\n",
       "    .dataframe tbody tr th:only-of-type {\n",
       "        vertical-align: middle;\n",
       "    }\n",
       "\n",
       "    .dataframe tbody tr th {\n",
       "        vertical-align: top;\n",
       "    }\n",
       "\n",
       "    .dataframe thead th {\n",
       "        text-align: right;\n",
       "    }\n",
       "</style>\n",
       "<table border=\"1\" class=\"dataframe\">\n",
       "  <thead>\n",
       "    <tr style=\"text-align: right;\">\n",
       "      <th></th>\n",
       "      <th>body-style</th>\n",
       "      <th>price</th>\n",
       "    </tr>\n",
       "  </thead>\n",
       "  <tbody>\n",
       "    <tr>\n",
       "      <th>0</th>\n",
       "      <td>convertible</td>\n",
       "      <td>21890.500000</td>\n",
       "    </tr>\n",
       "    <tr>\n",
       "      <th>1</th>\n",
       "      <td>hardtop</td>\n",
       "      <td>22208.500000</td>\n",
       "    </tr>\n",
       "    <tr>\n",
       "      <th>2</th>\n",
       "      <td>hatchback</td>\n",
       "      <td>9958.373134</td>\n",
       "    </tr>\n",
       "    <tr>\n",
       "      <th>3</th>\n",
       "      <td>sedan</td>\n",
       "      <td>14459.755319</td>\n",
       "    </tr>\n",
       "    <tr>\n",
       "      <th>4</th>\n",
       "      <td>wagon</td>\n",
       "      <td>12500.166667</td>\n",
       "    </tr>\n",
       "  </tbody>\n",
       "</table>\n",
       "</div>"
      ],
      "text/plain": [
       "    body-style         price\n",
       "0  convertible  21890.500000\n",
       "1      hardtop  22208.500000\n",
       "2    hatchback   9958.373134\n",
       "3        sedan  14459.755319\n",
       "4        wagon  12500.166667"
      ]
     },
     "execution_count": 148,
     "metadata": {},
     "output_type": "execute_result"
    }
   ],
   "source": [
    "df_test = df[['body-style', 'price']]\n",
    "df_grp = df_test.groupby(['body-style'], as_index=False).mean()\n",
    "df_grp"
   ]
  },
  {
   "cell_type": "code",
   "execution_count": null,
   "id": "55b16270-ca31-4967-87fb-82a5b46e8e1d",
   "metadata": {},
   "outputs": [],
   "source": []
  }
 ],
 "metadata": {
  "kernelspec": {
   "display_name": "Python 3",
   "language": "python",
   "name": "python3"
  },
  "language_info": {
   "codemirror_mode": {
    "name": "ipython",
    "version": 3
   },
   "file_extension": ".py",
   "mimetype": "text/x-python",
   "name": "python",
   "nbconvert_exporter": "python",
   "pygments_lexer": "ipython3",
   "version": "3.8.8"
  }
 },
 "nbformat": 4,
 "nbformat_minor": 5
}

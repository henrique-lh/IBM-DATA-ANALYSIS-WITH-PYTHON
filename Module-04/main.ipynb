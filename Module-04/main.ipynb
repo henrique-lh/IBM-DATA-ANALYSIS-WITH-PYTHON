{
 "cells": [
  {
   "cell_type": "markdown",
   "id": "a8cb083f-c7c2-4500-a9fe-c4d1c5dc4acf",
   "metadata": {},
   "source": [
    "# Model Development\n",
    "\n",
    "**What is a model?** \n",
    "- Mathematical equation used to predict a value given one or more other values\n",
    "- Relating one or more independent variables to dependent variables\n",
    "- Usually, more data implies in more accuracy\n",
    "\n",
    "In the examples of the course, we analyzed how the characteristics of the car are impacting in the car price"
   ]
  },
  {
   "cell_type": "code",
   "execution_count": 1,
   "id": "a9b73aa5-7633-44fb-8863-77846e715e98",
   "metadata": {},
   "outputs": [],
   "source": [
    "import pandas as pd\n",
    "filename = filename = \"https://cf-courses-data.s3.us.cloud-object-storage.appdomain.cloud/IBMDeveloperSkillsNetwork-DA0101EN-SkillsNetwork/labs/Data%20files/automobileEDA.csv\"\n",
    "df = pd.read_csv(filename, header=0)"
   ]
  },
  {
   "cell_type": "markdown",
   "id": "01d08592-654b-4bd1-bd20-862d3c6221c6",
   "metadata": {},
   "source": [
    "## Linear Regression and Multiple Linear Regression\n",
    "\n",
    "- Linear Regression: One independent variable to make a prediction\n",
    "- Multiple Regression: Multiple independent variables to make a prediction\n",
    "\n",
    "## Simple Linear Regression (SLR)\n",
    "\n",
    "It's a method to understand the relationship between two variables\n",
    "\n",
    "1. The predictor (independent) variable - $x$\n",
    "2. The target (dependent) variable - $y$\n",
    "\n",
    "$$\n",
    "\\boxed{y=b_{0} + b_{1} x}\n",
    "$$\n",
    "\n",
    "Where:\n",
    "- $b_{0}$: the intercept\n",
    "- $b_{1}$: the slope\n",
    "\n",
    "## SLR: Prediction\n",
    "\n",
    "We can create a model that predicts the price based on the highway mpg variables. The result is line where we can input a value (the highway mpg) and output the price\n",
    "\n",
    "**How to determine the line?**\n",
    "\n",
    "To do this, get some point of the data frame, and it is what we will use to train our model. The result is the parameters: ($b_0, b_1$)\n",
    "\n",
    "To perform operations like this, we can represent the data as matrices\n",
    "\n",
    "**Noise**: Add a small point on the line\n",
    "\n",
    "Different reasons will impact on the car price, for example, make or how old the car car is\n",
    "\n",
    "Since we don't have certain about it, we can use noise and add a random point and will change the data\n",
    "\n",
    "\n",
    "**Fit and predict**\n",
    "\n",
    "After fitting our model, we can predict the values\n",
    "\n",
    "Predict\n",
    "$$\n",
    "\\boxed{\\hat{y}=b_0+b_1x}\n",
    "$$\n",
    "\n",
    "The model is not correct all the time! That's why it's important to **compare** the result to the actual value"
   ]
  },
  {
   "cell_type": "code",
   "execution_count": 2,
   "id": "45e75f56-65db-4fbe-b566-8e771b3907c4",
   "metadata": {},
   "outputs": [
    {
     "name": "stdout",
     "output_type": "stream",
     "text": [
      "<class 'pandas.core.frame.DataFrame'>\n",
      "RangeIndex: 201 entries, 0 to 200\n",
      "Data columns (total 29 columns):\n",
      " #   Column             Non-Null Count  Dtype  \n",
      "---  ------             --------------  -----  \n",
      " 0   symboling          201 non-null    int64  \n",
      " 1   normalized-losses  201 non-null    int64  \n",
      " 2   make               201 non-null    object \n",
      " 3   aspiration         201 non-null    object \n",
      " 4   num-of-doors       201 non-null    object \n",
      " 5   body-style         201 non-null    object \n",
      " 6   drive-wheels       201 non-null    object \n",
      " 7   engine-location    201 non-null    object \n",
      " 8   wheel-base         201 non-null    float64\n",
      " 9   length             201 non-null    float64\n",
      " 10  width              201 non-null    float64\n",
      " 11  height             201 non-null    float64\n",
      " 12  curb-weight        201 non-null    int64  \n",
      " 13  engine-type        201 non-null    object \n",
      " 14  num-of-cylinders   201 non-null    object \n",
      " 15  engine-size        201 non-null    int64  \n",
      " 16  fuel-system        201 non-null    object \n",
      " 17  bore               201 non-null    float64\n",
      " 18  stroke             197 non-null    float64\n",
      " 19  compression-ratio  201 non-null    float64\n",
      " 20  horsepower         201 non-null    float64\n",
      " 21  peak-rpm           201 non-null    float64\n",
      " 22  city-mpg           201 non-null    int64  \n",
      " 23  highway-mpg        201 non-null    int64  \n",
      " 24  price              201 non-null    float64\n",
      " 25  city-L/100km       201 non-null    float64\n",
      " 26  horsepower-binned  200 non-null    object \n",
      " 27  diesel             201 non-null    int64  \n",
      " 28  gas                201 non-null    int64  \n",
      "dtypes: float64(11), int64(8), object(10)\n",
      "memory usage: 45.7+ KB\n"
     ]
    }
   ],
   "source": [
    "df.info()"
   ]
  },
  {
   "cell_type": "markdown",
   "id": "a6ab2878-8fb6-490f-94ed-4f8a5839ea6f",
   "metadata": {},
   "source": [
    "## Fitting a SLR in Python"
   ]
  },
  {
   "cell_type": "markdown",
   "id": "121bef49-b17a-43e9-b919-8d628c280821",
   "metadata": {},
   "source": [
    "Importing model and instanciating that"
   ]
  },
  {
   "cell_type": "code",
   "execution_count": 3,
   "id": "e08a1c74-d849-4da3-8380-0cbd95bda8c9",
   "metadata": {},
   "outputs": [
    {
     "name": "stderr",
     "output_type": "stream",
     "text": [
      "/home/luis/anaconda3/lib/python3.8/site-packages/scipy/__init__.py:138: UserWarning: A NumPy version >=1.16.5 and <1.23.0 is required for this version of SciPy (detected version 1.24.3)\n",
      "  warnings.warn(f\"A NumPy version >={np_minversion} and <{np_maxversion} is required for this version of \"\n"
     ]
    }
   ],
   "source": [
    "from sklearn.linear_model import LinearRegression\n",
    "lm = LinearRegression()"
   ]
  },
  {
   "cell_type": "markdown",
   "id": "f5145bee-0743-4258-b860-487b05ab26f0",
   "metadata": {},
   "source": [
    "Getting the dependent and independent variables"
   ]
  },
  {
   "cell_type": "code",
   "execution_count": 4,
   "id": "80ffd6f6-60b7-4039-9a07-e6a86db261ce",
   "metadata": {},
   "outputs": [],
   "source": [
    "X = df[['highway-mpg']]\n",
    "y = df['price']"
   ]
  },
  {
   "cell_type": "markdown",
   "id": "9fd5930c-d16e-4205-9338-db9b6987e104",
   "metadata": {},
   "source": [
    "Fitting model and getting $\\hat{y}$"
   ]
  },
  {
   "cell_type": "code",
   "execution_count": 5,
   "id": "181bad52-d177-478b-b49f-7dde7e9da904",
   "metadata": {},
   "outputs": [
    {
     "data": {
      "text/plain": [
       "LinearRegression()"
      ]
     },
     "execution_count": 5,
     "metadata": {},
     "output_type": "execute_result"
    }
   ],
   "source": [
    "lm.fit(X, y)"
   ]
  },
  {
   "cell_type": "code",
   "execution_count": 6,
   "id": "7f48f095-e967-4fc4-a60c-26518c232dfe",
   "metadata": {},
   "outputs": [],
   "source": [
    "Yhat = lm.predict(X)"
   ]
  },
  {
   "cell_type": "code",
   "execution_count": 7,
   "id": "af0b11f0-6f35-4b4a-adb0-eb6c342b4ae7",
   "metadata": {},
   "outputs": [
    {
     "data": {
      "text/plain": [
       "array([16236.50464347, 16236.50464347, 17058.23802179, 13771.3045085 ,\n",
       "       20345.17153508, 17879.97140011, 17879.97140011, 17879.97140011,\n",
       "       21988.63829172, 14593.03788682, 14593.03788682, 15414.77126514,\n",
       "       15414.77126514, 17879.97140011, 20345.17153508, 20345.17153508,\n",
       "       21988.63829172, -5128.5631929 ,  3088.77059031,  3088.77059031,\n",
       "        4732.23734696,  7197.43748192, 13771.3045085 ,  7197.43748192,\n",
       "        7197.43748192,  7197.43748192, 13771.3045085 , 13771.3045085 ,\n",
       "       18701.70477843, -5950.29657123,  7197.43748192,  3910.50396864,\n",
       "       10484.37099521, 10484.37099521, 10484.37099521, 10484.37099521,\n",
       "       11306.10437353, 11306.10437353, 11306.10437353, 11306.10437353,\n",
       "       15414.77126514, 12949.57113018, 14593.03788682, 14593.03788682,\n",
       "       22810.37167004, 22810.37167004, 24453.83842668, 12949.57113018,\n",
       "        7197.43748192,  7197.43748192,  7197.43748192,  7197.43748192,\n",
       "       19523.43815675, 19523.43815675, 19523.43815675, 19523.43815675,\n",
       "       12127.83775186, 12127.83775186, 12127.83775186, 12127.83775186,\n",
       "        3910.50396864, 12127.83775186, 16236.50464347,  6375.7041036 ,\n",
       "       17879.97140011, 17879.97140011, 17879.97140011, 17879.97140011,\n",
       "       23632.10504836, 23632.10504836, 25275.57180501, 25275.57180501,\n",
       "       18701.70477843,  4732.23734696,  7197.43748192,  7197.43748192,\n",
       "       13771.3045085 , 13771.3045085 , 12127.83775186, 18701.70477843,\n",
       "       18701.70477843, 18701.70477843, 12127.83775186, 12127.83775186,\n",
       "       13771.3045085 , 13771.3045085 ,  8019.17086025, -2663.36305794,\n",
       "        8019.17086025,  8019.17086025,  8019.17086025,  8019.17086025,\n",
       "        8019.17086025,  8019.17086025,  8019.17086025,  8019.17086025,\n",
       "       10484.37099521, 10484.37099521, 20345.17153508, 20345.17153508,\n",
       "       17879.97140011, 17879.97140011, 19523.43815675, 17879.97140011,\n",
       "       18701.70477843, 11306.10437353, 18701.70477843, 17879.97140011,\n",
       "       18701.70477843, 11306.10437353, 18701.70477843, 17879.97140011,\n",
       "       18701.70477843, 11306.10437353, 18701.70477843,  4732.23734696,\n",
       "       13771.3045085 ,  7197.43748192,  7197.43748192,  7197.43748192,\n",
       "       13771.3045085 , 18701.70477843, 16236.50464347, 17879.97140011,\n",
       "       17879.97140011, 17879.97140011, 12949.57113018, 12949.57113018,\n",
       "       15414.77126514, 15414.77126514, 15414.77126514, 15414.77126514,\n",
       "       17058.23802179, 17058.23802179,  8840.90423857, 12949.57113018,\n",
       "       12949.57113018,  8019.17086025, 11306.10437353, 12127.83775186,\n",
       "       17879.97140011, 14593.03788682, 12127.83775186, 12949.57113018,\n",
       "       14593.03788682, 19523.43815675,  6375.7041036 ,  7197.43748192,\n",
       "        7197.43748192,  8019.17086025, 12127.83775186, 12127.83775186,\n",
       "        8019.17086025,  8019.17086025,  8840.90423857,  -198.16292297,\n",
       "        -198.16292297, 10484.37099521, 10484.37099521, 10484.37099521,\n",
       "       10484.37099521, 14593.03788682, 14593.03788682, 13771.3045085 ,\n",
       "       13771.3045085 , 13771.3045085 , 13771.3045085 , 13771.3045085 ,\n",
       "       13771.3045085 , 10484.37099521, 11306.10437353, 12127.83775186,\n",
       "       12127.83775186, 12127.83775186, 18701.70477843, 18701.70477843,\n",
       "       18701.70477843, 18701.70477843,   623.57045535, 10484.37099521,\n",
       "         623.57045535, 10484.37099521, 10484.37099521,  3910.50396864,\n",
       "       12127.83775186, 14593.03788682, 14593.03788682, 18701.70477843,\n",
       "        7197.43748192, 12949.57113018, 15414.77126514, 15414.77126514,\n",
       "       15414.77126514, 15414.77126514, 20345.17153508, 20345.17153508,\n",
       "       15414.77126514, 17879.97140011, 19523.43815675, 16236.50464347,\n",
       "       17879.97140011])"
      ]
     },
     "execution_count": 7,
     "metadata": {},
     "output_type": "execute_result"
    }
   ],
   "source": [
    "Yhat"
   ]
  },
  {
   "cell_type": "markdown",
   "id": "48c3a228-baf4-488b-b0e3-fa6d8f3ff8ad",
   "metadata": {},
   "source": [
    "Note it's an array like!"
   ]
  },
  {
   "cell_type": "markdown",
   "id": "1d76ece0-0986-40db-9b66-1129e0606325",
   "metadata": {},
   "source": [
    "View the intercept"
   ]
  },
  {
   "cell_type": "code",
   "execution_count": 8,
   "id": "df3e0f70-3f87-4cd2-9b21-723396b9ac0d",
   "metadata": {},
   "outputs": [
    {
     "data": {
      "text/plain": [
       "38423.305858157386"
      ]
     },
     "execution_count": 8,
     "metadata": {},
     "output_type": "execute_result"
    }
   ],
   "source": [
    "lm.intercept_"
   ]
  },
  {
   "cell_type": "markdown",
   "id": "aeeb8763-d5a6-4592-8d6e-de73f598ede9",
   "metadata": {},
   "source": [
    "View the slope"
   ]
  },
  {
   "cell_type": "code",
   "execution_count": 9,
   "id": "95b76989-344c-44ae-ae48-c6e83ce59111",
   "metadata": {},
   "outputs": [
    {
     "data": {
      "text/plain": [
       "array([-821.73337832])"
      ]
     },
     "execution_count": 9,
     "metadata": {},
     "output_type": "execute_result"
    }
   ],
   "source": [
    "lm.coef_"
   ]
  },
  {
   "cell_type": "markdown",
   "id": "1acb7e25-2302-4b90-8062-6a6f908b23f3",
   "metadata": {},
   "source": [
    "The relationship between \"price\" and \"highway-mpg\" is given by:\n",
    "\n",
    "$$\n",
    "Price=38423.31 - 821.73 * highway-mpg\n",
    "$$"
   ]
  },
  {
   "cell_type": "markdown",
   "id": "ea25722d-0764-468f-b29e-077bdd1fd611",
   "metadata": {},
   "source": [
    "## MLR\n",
    "\n",
    "$$\n",
    "\\hat{Y} = b_0+b_1x_1+b_2x_2+b_3x_3+b_4x_4\n",
    "$$\n",
    "\n",
    "Where:\n",
    "- $b_0$: intercept\n",
    "- $b_1$: the **coefficient** or **parameter** of x_1\n",
    "- $b_2$: the **coefficient** or **parameter** of x_2 and so on..."
   ]
  },
  {
   "cell_type": "markdown",
   "id": "f10085c8-ddb0-4744-99ca-602403040f1a",
   "metadata": {},
   "source": [
    "## Fitting a MLR in Python"
   ]
  },
  {
   "cell_type": "code",
   "execution_count": 10,
   "id": "9b8d3773-092f-4b17-be6e-04bea77fe5af",
   "metadata": {},
   "outputs": [
    {
     "data": {
      "text/plain": [
       "LinearRegression()"
      ]
     },
     "execution_count": 10,
     "metadata": {},
     "output_type": "execute_result"
    }
   ],
   "source": [
    "Z = df[['horsepower', 'curb-weight', 'engine-size', 'highway-mpg']]\n",
    "lm.fit(Z, df['price'])"
   ]
  },
  {
   "cell_type": "code",
   "execution_count": 11,
   "id": "503e57e3-2aaa-44e1-b360-ad6c4fb47bbd",
   "metadata": {},
   "outputs": [],
   "source": [
    "Yhat = lm.predict(Z)"
   ]
  },
  {
   "cell_type": "code",
   "execution_count": 12,
   "id": "2691a967-0918-4c98-a63e-dcbd8aa81ebc",
   "metadata": {},
   "outputs": [
    {
     "data": {
      "text/plain": [
       "array([13699.11161184, 13699.11161184, 19051.65470233, 10620.36193015,\n",
       "       15521.31420211, 13869.66673213, 15456.16196732, 15974.00907672,\n",
       "       17612.35917161, 10722.32509097, 10722.32509097, 17804.80307397,\n",
       "       18063.72662867, 19320.78745066, 26968.56492801, 27674.72007721,\n",
       "       28191.0677239 ,   650.62317688,  5648.50489642,  5813.27443123,\n",
       "        5478.81383232,  5370.64136587,  8739.61952024,  5799.04215638,\n",
       "        5902.61157827,  5902.61157827,  9036.2046829 , 11863.43973759,\n",
       "       18767.70667001,  4808.3090102 ,  5693.32889063,  4006.47212651,\n",
       "        6118.73075572,  6194.05397163,  6448.26982534,  6514.17763926,\n",
       "        9478.65495235,  9728.16310506,  9798.77861998, 10118.90228761,\n",
       "       11178.86719942, 10423.81935057,  9463.46710755, 12626.61544369,\n",
       "       34470.03895495, 34470.03895495, 43996.52260522,  5265.67702191,\n",
       "        5565.15645357,  5588.69495854,  5777.00299832,  5800.5415033 ,\n",
       "        7337.21461795,  7337.21461795,  7360.75312292, 10536.2966792 ,\n",
       "       11015.41658913, 11133.109114  , 11015.41658913, 11133.109114  ,\n",
       "       10579.12325046, 11203.72462892, 15570.21546943, 13087.15905929,\n",
       "       23142.39640924, 24248.70614297, 23048.24238935, 24342.86016287,\n",
       "       29819.13398143, 29560.21042672, 38084.86726826, 36887.82152897,\n",
       "       19534.15717412,  5839.59780174,  5853.82556115,  6136.28762083,\n",
       "        8819.65043715, 11606.18674596, 10961.06060934, 18871.2760919 ,\n",
       "       19285.55377942, 19309.0922844 , 11135.24554614, 11323.55358593,\n",
       "       11761.54087878, 11761.54087878,  6019.99158096,  6831.56582665,\n",
       "        6156.51490981,  6250.6689297 ,  6655.53121524,  6311.86904263,\n",
       "        6674.36201921,  6406.02306252,  6716.73132817,  6580.20799932,\n",
       "       11332.74595339, 11229.17653151, 22445.30557997, 23391.55347988,\n",
       "       22388.7085116 , 22868.45917635, 25256.2976354 , 23188.58284399,\n",
       "       14248.73095747, 17908.4883867 , 15237.34816634, 18716.92280791,\n",
       "       14400.66302373, 18167.4119414 , 15389.2802326 , 18975.84636261,\n",
       "       14507.65451218, 18167.4119414 , 18315.31025055,  5676.5372741 ,\n",
       "        8739.61952024,  5799.04215638,  5902.61157827,  7505.80928975,\n",
       "       11863.43973759, 18800.66057698, 18205.88219608, 24959.72677135,\n",
       "       24959.72677135, 25166.86561511, 13791.57395935, 13231.35754099,\n",
       "       13465.74809145, 13639.93302825, 13696.42544019, 13936.51819091,\n",
       "       16774.57547431, 16958.1758131 ,  6741.87395228,  8001.94145676,\n",
       "        8566.86557611,  8817.44061256,  8885.05720205, 10197.10379314,\n",
       "        9514.59898547, 11798.66814761,  9319.76981269, 10702.4319187 ,\n",
       "        9823.59847554, 12241.40135396,  5761.92432539,  5984.79039128,\n",
       "        5867.09786641,  7078.58114117,  6945.37070703, 10805.68552262,\n",
       "        7058.89617998,  7190.71180783,  8165.5554308 ,  8562.18780779,\n",
       "        7480.67118107,  7143.73945431,  7228.47807221,  7365.00140105,\n",
       "        7529.77093586,  9883.47450995, 10048.24404476, 15341.58541261,\n",
       "       15322.75460863, 15393.37012355, 15995.95585086, 16160.72538567,\n",
       "       17389.43534526, 11237.74316189,  9931.88932009, 11579.90587178,\n",
       "       11579.90587178, 11787.04471555, 21623.36319906, 21811.67123885,\n",
       "       22085.5781321 , 21364.42951378,  7186.34609846,  9252.57850626,\n",
       "        7200.46920145,  9266.70160925,  9563.28677191,  8171.0947085 ,\n",
       "       10411.30048253,  9551.61632807,  9396.26219524, 14558.59519649,\n",
       "        9250.86701184, 10971.41942458, 16506.09239741, 17080.43191875,\n",
       "       16614.36952029, 17118.09352671, 18586.83451761, 19114.09702901,\n",
       "       16694.4004372 , 19503.67920162, 20475.45837959, 17804.03881343,\n",
       "       17104.07508015])"
      ]
     },
     "execution_count": 12,
     "metadata": {},
     "output_type": "execute_result"
    }
   ],
   "source": [
    "Yhat"
   ]
  },
  {
   "cell_type": "code",
   "execution_count": 13,
   "id": "8b4bd5e8-4d20-494d-a6ec-33147265328b",
   "metadata": {},
   "outputs": [
    {
     "data": {
      "text/plain": [
       "-15806.624626329198"
      ]
     },
     "execution_count": 13,
     "metadata": {},
     "output_type": "execute_result"
    }
   ],
   "source": [
    "lm.intercept_"
   ]
  },
  {
   "cell_type": "code",
   "execution_count": 14,
   "id": "1d3767d2-042e-4277-9d1f-2a6763f57c64",
   "metadata": {},
   "outputs": [
    {
     "data": {
      "text/plain": [
       "array([53.49574423,  4.70770099, 81.53026382, 36.05748882])"
      ]
     },
     "execution_count": 14,
     "metadata": {},
     "output_type": "execute_result"
    }
   ],
   "source": [
    "lm.coef_"
   ]
  },
  {
   "cell_type": "markdown",
   "id": "092ede63-423a-4cca-81af-17f665a004e7",
   "metadata": {},
   "source": [
    "## Model Evaluation using Visualization\n",
    "\n",
    "### Regression Plot\n",
    "\n",
    "It give us a good estimate of:\n",
    "1. The relationship between two variables\n",
    "2. The strength of the correlation\n",
    "3. The direction of the relationship (positive or negative)\n",
    "\n",
    "Show us a combination of:\n",
    "- Scatterplot and the fitted linear regression line ($\\hat{y}$)\n",
    "\n",
    "Plotting a regression plot in python $\\downarrow$"
   ]
  },
  {
   "cell_type": "code",
   "execution_count": 16,
   "id": "0d2fc13f-3152-4801-b05f-0ef8d4305973",
   "metadata": {},
   "outputs": [
    {
     "data": {
      "text/plain": [
       "(0.0, 48174.22099481381)"
      ]
     },
     "execution_count": 16,
     "metadata": {},
     "output_type": "execute_result"
    },
    {
     "data": {
      "image/png": "[encoded data removed]",
      "text/plain": [
       "<Figure size 432x288 with 1 Axes>"
      ]
     },
     "metadata": {
      "needs_background": "light"
     },
     "output_type": "display_data"
    }
   ],
   "source": [
    "import seaborn as sns\n",
    "import matplotlib.pyplot as plt\n",
    "sns.regplot(x='highway-mpg', y='price', data=df)\n",
    "plt.ylim(0,)"
   ]
  },
  {
   "cell_type": "markdown",
   "id": "ee4eb385-c646-4058-b90f-8e656402735d",
   "metadata": {},
   "source": [
    "### Residual plot\n",
    "\n",
    "Tell us the error between the actual value and the predicted value\n",
    "\n",
    "what should we expect?\n",
    "- The values should be randomly spread out around the x-axis\n",
    "- If it's not randomly spread, it suggest the linear assumption is incorrect\n",
    "- Nonlinear model may be more appropriate\n",
    "\n",
    "Plotting residual plot in python $\\downarrow$"
   ]
  },
  {
   "cell_type": "code",
   "execution_count": 19,
   "id": "9bfdae2f-e887-433a-a3c0-e6d0c69784b9",
   "metadata": {},
   "outputs": [
    {
     "data": {
      "text/plain": [
       "<AxesSubplot:xlabel='highway-mpg', ylabel='price'>"
      ]
     },
     "execution_count": 19,
     "metadata": {},
     "output_type": "execute_result"
    },
    {
     "data": {
      "image/png": "[encoded data removed]",
      "text/plain": [
       "<Figure size 432x288 with 1 Axes>"
      ]
     },
     "metadata": {
      "needs_background": "light"
     },
     "output_type": "display_data"
    }
   ],
   "source": [
    "import matplotlib.pyplot as plt\n",
    "import seaborn as sns\n",
    "sns.residplot(x='highway-mpg', y='price', data=df)"
   ]
  },
  {
   "cell_type": "markdown",
   "id": "d4c3b13d-a767-4bc6-9138-ab009c5c64ff",
   "metadata": {},
   "source": [
    "### Distribution plots\n",
    "\n",
    "- Show the actual value and the predcited value at the same plot\n",
    "- Great for visualization of models with more than one independent variable or feature\n",
    "\n",
    "Plotting in python"
   ]
  },
  {
   "cell_type": "code",
   "execution_count": 25,
   "id": "2508ab59-1aa5-4b82-967c-acd4a0ae650f",
   "metadata": {},
   "outputs": [
    {
     "data": {
      "text/plain": [
       "<seaborn.axisgrid.FacetGrid at 0x7f080d03e340>"
      ]
     },
     "execution_count": 25,
     "metadata": {},
     "output_type": "execute_result"
    },
    {
     "data": {
      "image/png": "[encoded data removed]",
      "text/plain": [
       "<Figure size 360x360 with 1 Axes>"
      ]
     },
     "metadata": {
      "needs_background": "light"
     },
     "output_type": "display_data"
    }
   ],
   "source": [
    "ax1 = sns.displot(x=df['price'], color='r', label=\"Actual Value\")\n",
    "sns.histplot(Yhat, color='b', label='Fitted Values', ax=ax1)"
   ]
  },
  {
   "cell_type": "markdown",
   "id": "bd6b85d1-ccf6-4676-888d-9ecdded6f2ab",
   "metadata": {},
   "source": [
    "## Polynomial Regression and Pipelines\n",
    "\n",
    "- A special case of the general linear regression model\n",
    "- Useful for describing curvilinear relationships\n",
    "\n",
    "**Curvlinear relationships**\n",
    "By squaring or setting higher-order terms of the predictors variables\n",
    "\n",
    "Examples\n",
    "- Quadratic - $2^{nd}$ order: $\\hat{Y} = b_{0} + b_{1}x_{1} + b_{2}(x_{1})^{2}$\n",
    "- Cubic - $3^{nd}$ order: $\\hat{Y} = b_{0} + b_{1}x_{1} + b_{2}(x_{1})^{2} + b_{3}(x_{1})^{3}$\n",
    "- Higher order: $\\hat{Y} = b_{0} + b_{1}x_{1} + b_{2}(x_{1})^{2} + b_{3}(x_{1})^{3}+\\dots$"
   ]
  },
  {
   "cell_type": "code",
   "execution_count": 27,
   "id": "8fc7a939-8ee0-46a5-b2ed-e075ae10403c",
   "metadata": {},
   "outputs": [],
   "source": [
    "import numpy as np\n",
    "x = np.array([0.0, 1.0, 2.0, 3.0,  4.0,  5.0])\n",
    "y = np.array([0.0, 0.8, 0.9, 0.1, -0.8, -1.0])\n",
    "z = np.polyfit(x, y, 3)\n",
    "p = np.poly1d(z)"
   ]
  },
  {
   "cell_type": "code",
   "execution_count": 28,
   "id": "581f188c-769d-476b-a04d-6c38c647eb58",
   "metadata": {},
   "outputs": [
    {
     "name": "stdout",
     "output_type": "stream",
     "text": [
      "         3          2\n",
      "0.08704 x - 0.8135 x + 1.693 x - 0.03968\n"
     ]
    }
   ],
   "source": [
    "print(p)"
   ]
  },
  {
   "cell_type": "markdown",
   "id": "ea3bdff7-7691-4c78-873e-9cdc5dd43f81",
   "metadata": {},
   "source": [
    "### Polynomial Regression with more the one dimension\n",
    "\n",
    "- Numpy can't deal with that\n",
    "- Solution: Using scikit-learn"
   ]
  },
  {
   "cell_type": "code",
   "execution_count": 29,
   "id": "0f76ad47-06b2-4e14-b1e5-68517d8cf3d5",
   "metadata": {},
   "outputs": [],
   "source": [
    "from sklearn.preprocessing import PolynomialFeatures\n",
    "pr = PolynomialFeatures(degree=2, include_bias=False)"
   ]
  },
  {
   "cell_type": "code",
   "execution_count": 30,
   "id": "c6b5e289-fff5-42c9-9e66-61d03ddff0d2",
   "metadata": {},
   "outputs": [],
   "source": [
    "x_polly = pr.fit_transform(df[['horsepower', 'curb-weight']])"
   ]
  },
  {
   "cell_type": "code",
   "execution_count": 31,
   "id": "ad2c8e74-3f5c-4468-95aa-919864fda0cd",
   "metadata": {},
   "outputs": [
    {
     "data": {
      "text/plain": [
       "array([[1.1100000e+02, 2.5480000e+03, 1.2321000e+04, 2.8282800e+05,\n",
       "        6.4923040e+06],\n",
       "       [1.1100000e+02, 2.5480000e+03, 1.2321000e+04, 2.8282800e+05,\n",
       "        6.4923040e+06],\n",
       "       [1.5400000e+02, 2.8230000e+03, 2.3716000e+04, 4.3474200e+05,\n",
       "        7.9693290e+06],\n",
       "       ...,\n",
       "       [1.3400000e+02, 3.0120000e+03, 1.7956000e+04, 4.0360800e+05,\n",
       "        9.0721440e+06],\n",
       "       [1.0600000e+02, 3.2170000e+03, 1.1236000e+04, 3.4100200e+05,\n",
       "        1.0349089e+07],\n",
       "       [1.1400000e+02, 3.0620000e+03, 1.2996000e+04, 3.4906800e+05,\n",
       "        9.3758440e+06]])"
      ]
     },
     "execution_count": 31,
     "metadata": {},
     "output_type": "execute_result"
    }
   ],
   "source": [
    "x_polly"
   ]
  },
  {
   "cell_type": "markdown",
   "id": "d0849ac0-c70c-46fd-86ed-0401c5a21fde",
   "metadata": {},
   "source": [
    "### Pre-processing\n",
    "\n",
    "- Data get larger, what should we do?\n",
    "- Normalize data is the solution"
   ]
  },
  {
   "cell_type": "code",
   "execution_count": 32,
   "id": "1427b4f7-e743-4b03-9ac0-6303c2c54ae2",
   "metadata": {},
   "outputs": [],
   "source": [
    "from sklearn.preprocessing import StandardScaler\n",
    "SCALE = StandardScaler()"
   ]
  },
  {
   "cell_type": "code",
   "execution_count": 33,
   "id": "54fe9fbd-17b5-4980-9209-02349210555d",
   "metadata": {},
   "outputs": [
    {
     "data": {
      "text/plain": [
       "StandardScaler()"
      ]
     },
     "execution_count": 33,
     "metadata": {},
     "output_type": "execute_result"
    }
   ],
   "source": [
    "SCALE.fit(df[['horsepower', 'highway-mpg']])"
   ]
  },
  {
   "cell_type": "code",
   "execution_count": 34,
   "id": "921b5daf-5d3b-499f-95b3-3a07b785f5db",
   "metadata": {},
   "outputs": [],
   "source": [
    "x_scale = SCALE.transform(df[['horsepower', 'highway-mpg']])"
   ]
  },
  {
   "cell_type": "code",
   "execution_count": 35,
   "id": "c4f61aae-16d7-4d2a-89e6-aaf80d61d79f",
   "metadata": {},
   "outputs": [
    {
     "data": {
      "text/plain": [
       "array([[ 0.20375448, -0.54228772],\n",
       "       [ 0.20375448, -0.54228772],\n",
       "       [ 1.3574159 , -0.689386  ],\n",
       "       [-0.03770954, -0.10099285],\n",
       "       [ 0.31107182, -1.27777915],\n",
       "       [ 0.17692514, -0.83648429],\n",
       "       [ 0.17692514, -0.83648429],\n",
       "       [ 0.17692514, -0.83648429],\n",
       "       [ 0.9818052 , -1.57197573],\n",
       "       [-0.06453888, -0.24809114],\n",
       "       [-0.06453888, -0.24809114],\n",
       "       [ 0.47204783, -0.39518943],\n",
       "       [ 0.47204783, -0.39518943],\n",
       "       [ 0.47204783, -0.83648429],\n",
       "       [ 2.10863729, -1.27777915],\n",
       "       [ 2.10863729, -1.27777915],\n",
       "       [ 2.10863729, -1.57197573],\n",
       "       [-1.48649365,  3.28226775],\n",
       "       [-0.89624827,  1.81128488],\n",
       "       [-0.89624827,  1.81128488],\n",
       "       [-0.94990694,  1.51708831],\n",
       "       [-0.94990694,  1.07579344],\n",
       "       [-0.03770954, -0.10099285],\n",
       "       [-0.94990694,  1.07579344],\n",
       "       [-0.94990694,  1.07579344],\n",
       "       [-0.94990694,  1.07579344],\n",
       "       [-0.03770954, -0.10099285],\n",
       "       [-0.41332024, -0.10099285],\n",
       "       [ 1.11595188, -0.98358258],\n",
       "       [-1.2182003 ,  3.42936604],\n",
       "       [-0.73527226,  1.07579344],\n",
       "       [-1.16454163,  1.66418659],\n",
       "       [-0.73527226,  0.48740029],\n",
       "       [-0.73527226,  0.48740029],\n",
       "       [-0.73527226,  0.48740029],\n",
       "       [-0.73527226,  0.48740029],\n",
       "       [-0.46697891,  0.34030201],\n",
       "       [-0.46697891,  0.34030201],\n",
       "       [-0.46697891,  0.34030201],\n",
       "       [-0.46697891,  0.34030201],\n",
       "       [-0.06453888, -0.39518943],\n",
       "       [-0.09136821,  0.04610543],\n",
       "       [-0.68161359, -0.24809114],\n",
       "       [-0.35966156, -0.24809114],\n",
       "       [ 1.94766128, -1.71907401],\n",
       "       [ 1.94766128, -1.71907401],\n",
       "       [ 4.25498412, -2.01327059],\n",
       "       [-0.94990694,  0.04610543],\n",
       "       [-0.94990694,  1.07579344],\n",
       "       [-0.94990694,  1.07579344],\n",
       "       [-0.94990694,  1.07579344],\n",
       "       [-0.94990694,  1.07579344],\n",
       "       [-0.06453888, -1.13068086],\n",
       "       [-0.06453888, -1.13068086],\n",
       "       [-0.06453888, -1.13068086],\n",
       "       [ 0.84765853, -1.13068086],\n",
       "       [-0.52063758,  0.19320372],\n",
       "       [-0.52063758,  0.19320372],\n",
       "       [-0.52063758,  0.19320372],\n",
       "       [-0.52063758,  0.19320372],\n",
       "       [-1.05722428,  1.66418659],\n",
       "       [-0.52063758,  0.19320372],\n",
       "       [ 0.4452185 , -0.54228772],\n",
       "       [-0.8425896 ,  1.22289173],\n",
       "       [ 0.5257065 , -0.83648429],\n",
       "       [ 0.5257065 , -0.83648429],\n",
       "       [ 0.5257065 , -0.83648429],\n",
       "       [ 0.5257065 , -0.83648429],\n",
       "       [ 1.38424523, -1.8661723 ],\n",
       "       [ 1.38424523, -1.8661723 ],\n",
       "       [ 2.16229596, -2.16036887],\n",
       "       [ 2.16229596, -2.16036887],\n",
       "       [ 1.92083194, -0.98358258],\n",
       "       [-0.94990694,  1.51708831],\n",
       "       [-0.94990694,  1.07579344],\n",
       "       [-0.94990694,  1.07579344],\n",
       "       [-0.03770954, -0.10099285],\n",
       "       [ 0.33790115, -0.10099285],\n",
       "       [-0.41332024,  0.19320372],\n",
       "       [ 1.11595188, -0.98358258],\n",
       "       [ 1.11595188, -0.98358258],\n",
       "       [ 1.11595188, -0.98358258],\n",
       "       [-0.41332024,  0.19320372],\n",
       "       [-0.41332024,  0.19320372],\n",
       "       [ 0.33790115, -0.10099285],\n",
       "       [ 0.33790115, -0.10099285],\n",
       "       [-0.92307761,  0.92869516],\n",
       "       [-1.2986883 ,  2.84097289],\n",
       "       [-0.92307761,  0.92869516],\n",
       "       [-0.92307761,  0.92869516],\n",
       "       [-0.92307761,  0.92869516],\n",
       "       [-0.92307761,  0.92869516],\n",
       "       [-0.92307761,  0.92869516],\n",
       "       [-0.92307761,  0.92869516],\n",
       "       [-0.92307761,  0.92869516],\n",
       "       [-0.92307761,  0.92869516],\n",
       "       [-0.17185622,  0.48740029],\n",
       "       [-0.17185622,  0.48740029],\n",
       "       [ 1.30375723, -1.27777915],\n",
       "       [ 1.30375723, -1.27777915],\n",
       "       [ 1.30375723, -0.83648429],\n",
       "       [ 1.51839191, -0.83648429],\n",
       "       [ 2.59156532, -1.13068086],\n",
       "       [ 1.51839191, -0.83648429],\n",
       "       [-0.17185622, -0.98358258],\n",
       "       [-0.22551489,  0.34030201],\n",
       "       [-0.17185622, -0.98358258],\n",
       "       [-0.22551489, -0.83648429],\n",
       "       [-0.22551489, -0.98358258],\n",
       "       [-0.22551489,  0.34030201],\n",
       "       [-0.22551489, -0.98358258],\n",
       "       [-0.22551489, -0.83648429],\n",
       "       [-0.17185622, -0.98358258],\n",
       "       [-0.22551489,  0.34030201],\n",
       "       [ 1.03546387, -0.98358258],\n",
       "       [-0.94990694,  1.51708831],\n",
       "       [-0.03770954, -0.10099285],\n",
       "       [-0.94990694,  1.07579344],\n",
       "       [-0.94990694,  1.07579344],\n",
       "       [-0.94990694,  1.07579344],\n",
       "       [-0.41332024, -0.10099285],\n",
       "       [ 1.11595188, -0.98358258],\n",
       "       [ 1.06229321, -0.54228772],\n",
       "       [ 2.77937067, -0.83648429],\n",
       "       [ 2.77937067, -0.83648429],\n",
       "       [ 2.77937067, -0.83648429],\n",
       "       [ 0.02282167,  0.04610543],\n",
       "       [ 0.02282167,  0.04610543],\n",
       "       [ 0.17692514, -0.39518943],\n",
       "       [ 0.17692514, -0.39518943],\n",
       "       [ 0.17692514, -0.39518943],\n",
       "       [ 0.17692514, -0.39518943],\n",
       "       [ 1.51839191, -0.689386  ],\n",
       "       [ 1.51839191, -0.689386  ],\n",
       "       [-0.92307761,  0.78159687],\n",
       "       [-0.81576027,  0.04610543],\n",
       "       [-0.81576027,  0.04610543],\n",
       "       [-0.57429625,  0.92869516],\n",
       "       [-0.57429625,  0.34030201],\n",
       "       [-0.25234422,  0.19320372],\n",
       "       [-0.57429625, -0.83648429],\n",
       "       [ 0.20375448, -0.24809114],\n",
       "       [-0.57429625,  0.19320372],\n",
       "       [-0.25234422,  0.04610543],\n",
       "       [-0.57429625, -0.24809114],\n",
       "       [ 0.20375448, -1.13068086],\n",
       "       [-1.11088295,  1.22289173],\n",
       "       [-1.11088295,  1.07579344],\n",
       "       [-1.11088295,  1.07579344],\n",
       "       [-1.11088295,  0.92869516],\n",
       "       [-1.11088295,  0.19320372],\n",
       "       [-1.11088295,  0.19320372],\n",
       "       [-0.89624827,  0.92869516],\n",
       "       [-0.89624827,  0.92869516],\n",
       "       [-1.27185897,  0.78159687],\n",
       "       [-1.27185897,  2.39967803],\n",
       "       [-0.89624827,  2.39967803],\n",
       "       [-0.89624827,  0.48740029],\n",
       "       [-0.89624827,  0.48740029],\n",
       "       [-0.89624827,  0.48740029],\n",
       "       [-0.89624827,  0.48740029],\n",
       "       [ 0.23058381, -0.24809114],\n",
       "       [ 0.23058381, -0.24809114],\n",
       "       [ 0.33790115, -0.10099285],\n",
       "       [ 0.33790115, -0.10099285],\n",
       "       [ 0.33790115, -0.10099285],\n",
       "       [ 0.33790115, -0.10099285],\n",
       "       [ 0.33790115, -0.10099285],\n",
       "       [ 0.33790115, -0.10099285],\n",
       "       [-0.30600289,  0.48740029],\n",
       "       [-0.81576027,  0.34030201],\n",
       "       [-0.30600289,  0.19320372],\n",
       "       [-0.30600289,  0.19320372],\n",
       "       [-0.30600289,  0.19320372],\n",
       "       [ 1.54522125, -0.98358258],\n",
       "       [ 1.54522125, -0.98358258],\n",
       "       [ 1.41107457, -0.98358258],\n",
       "       [ 1.41107457, -0.98358258],\n",
       "       [-1.37917631,  2.25257974],\n",
       "       [-0.49380824,  0.48740029],\n",
       "       [-1.37917631,  2.25257974],\n",
       "       [-0.49380824,  0.48740029],\n",
       "       [-0.49380824,  0.48740029],\n",
       "       [-0.94990694,  1.66418659],\n",
       "       [-0.09136821,  0.19320372],\n",
       "       [-0.35966156, -0.24809114],\n",
       "       [-0.35966156, -0.24809114],\n",
       "       [ 0.17692514, -0.98358258],\n",
       "       [-0.94990694,  1.07579344],\n",
       "       [-0.41332024,  0.04610543],\n",
       "       [ 0.28424248, -0.39518943],\n",
       "       [ 0.28424248, -0.39518943],\n",
       "       [ 0.28424248, -0.39518943],\n",
       "       [ 0.28424248, -0.39518943],\n",
       "       [ 1.57205058, -1.27777915],\n",
       "       [ 1.57205058, -1.27777915],\n",
       "       [ 0.28424248, -0.39518943],\n",
       "       [ 1.51839191, -0.83648429],\n",
       "       [ 0.82082919, -1.13068086],\n",
       "       [ 0.0696078 , -0.54228772],\n",
       "       [ 0.28424248, -0.83648429]])"
      ]
     },
     "execution_count": 35,
     "metadata": {},
     "output_type": "execute_result"
    }
   ],
   "source": [
    "x_scale"
   ]
  },
  {
   "cell_type": "markdown",
   "id": "d30fc79c-2b48-4300-8cf3-42709ff61a59",
   "metadata": {},
   "source": [
    "### Pipelines\n",
    "\n",
    "- We have multiples steps when we perform machine learning algorithms\n",
    "    - Transformations, standardizations and then predict\n",
    "- A pipeline will help us to deal with this step"
   ]
  },
  {
   "cell_type": "code",
   "execution_count": 37,
   "id": "bb2d6a1e-b8e3-41c0-ac4c-e2f0b31eb17f",
   "metadata": {},
   "outputs": [],
   "source": [
    "from sklearn.preprocessing import PolynomialFeatures\n",
    "from sklearn.linear_model import LinearRegression\n",
    "from sklearn.preprocessing import StandardScaler"
   ]
  },
  {
   "cell_type": "code",
   "execution_count": 38,
   "id": "9c5ba831-aa14-4e72-a47e-f831b9e6f24b",
   "metadata": {},
   "outputs": [],
   "source": [
    "from sklearn.pipeline import Pipeline"
   ]
  },
  {
   "cell_type": "code",
   "execution_count": 39,
   "id": "ef647013-a4df-48c5-a6d9-bdc8100ef122",
   "metadata": {},
   "outputs": [],
   "source": [
    "Input = [\n",
    "    ('scale', StandardScaler()),\n",
    "    ('polynomial', PolynomialFeatures(degree=2)),\n",
    "    ('model', LinearRegression())\n",
    "]"
   ]
  },
  {
   "cell_type": "code",
   "execution_count": 40,
   "id": "96292cf0-2362-4046-834c-5f3e1e6e6697",
   "metadata": {},
   "outputs": [],
   "source": [
    "pipe = Pipeline(Input)"
   ]
  },
  {
   "cell_type": "code",
   "execution_count": 42,
   "id": "10a83e2b-c4ec-4852-8227-1b116a3ba48f",
   "metadata": {},
   "outputs": [
    {
     "data": {
      "text/plain": [
       "Pipeline(steps=[('scale', StandardScaler()),\n",
       "                ('polynomial', PolynomialFeatures()),\n",
       "                ('model', LinearRegression())])"
      ]
     },
     "execution_count": 42,
     "metadata": {},
     "output_type": "execute_result"
    }
   ],
   "source": [
    "pipe.fit(df[['horsepower', 'curb-weight', 'engine-size', 'highway-mpg']], df['price'])"
   ]
  },
  {
   "cell_type": "code",
   "execution_count": 43,
   "id": "266be4b8-dc4a-49e3-a2ae-9721de8a1810",
   "metadata": {},
   "outputs": [],
   "source": [
    "yhat = pipe.predict(df[['horsepower', 'curb-weight', 'engine-size', 'highway-mpg']])"
   ]
  },
  {
   "cell_type": "code",
   "execution_count": 45,
   "id": "5c59d9ab-ad2f-475b-906f-15336535aceb",
   "metadata": {},
   "outputs": [
    {
     "data": {
      "text/plain": [
       "array([13102.74784201, 13102.74784201, 18225.54572197, 10390.29636555,\n",
       "       16136.29619164, 13880.09787302, 15041.58694037, 15457.93465485,\n",
       "       17974.49032347, 10510.56542385, 10510.56542385, 15845.70697835,\n",
       "       16068.03816037, 18547.43547305, 25222.41976123, 25176.06409341,\n",
       "       26518.01037743,  5896.19728097,  6225.67595805,  6265.22601565,\n",
       "        5976.20889391,  5832.72306295, 10109.23396371,  6061.05969767,\n",
       "        6118.14411398,  6118.14411398, 10042.92800648, 11301.10641037,\n",
       "       18336.04622938,  7336.72885437,  6420.49643279,  5174.21296336,\n",
       "        6619.35236359,  6652.09244229,  6765.45204951,  6795.56233742,\n",
       "        8796.64497511,  8948.23637645,  8991.91184621,  9194.18038695,\n",
       "       10928.27635866, 10052.96792101,  9660.68466801, 12124.39546671,\n",
       "       36318.61803898, 36318.61803898, 41642.8179005 ,  5912.27956733,\n",
       "        5928.15567673,  5941.11734652,  6046.17348651,  6059.47585172,\n",
       "       10195.17246527, 10195.17246527, 10183.58560528, 15943.91103394,\n",
       "       10255.79037208, 10380.12258884, 10255.79037208, 10380.12258884,\n",
       "       10840.99181324, 10455.17617947, 14409.33460485, 13374.99392567,\n",
       "       23845.18430719, 25660.83650127, 23694.52193108, 25819.22130713,\n",
       "       33467.88380606, 32977.3323232 , 43675.1876574 , 40887.93971531,\n",
       "       21725.64934084,  6133.16487359,  6085.05002803,  6253.80059193,\n",
       "       10090.74982707, 11854.93594171, 10016.61577698, 18326.329704  ,\n",
       "       18294.79233972, 18293.35249597, 10170.11422978, 10338.39037401,\n",
       "       11789.53215232, 11789.53215232,  6142.17917544,  7983.88787635,\n",
       "        6237.02226217,  6303.17324643,  6594.52421107,  6346.49618251,\n",
       "        6608.34797507,  6413.64654004,  6639.54002489,  6539.47142737,\n",
       "        9873.86832774,  9834.0864611 , 21542.40070894, 21943.92002198,\n",
       "       19962.95857269, 20356.0183024 , 26222.11317103, 20341.71353538,\n",
       "       14818.06559816, 17551.99876768, 15859.21897961, 22522.92300522,\n",
       "       15235.77892428, 17955.44126309, 16372.90437956, 23030.2532818 ,\n",
       "       15084.294341  , 17955.44126309, 16250.91973598,  6055.84397892,\n",
       "       10109.23396371,  6061.05969767,  6118.14411398,  7233.51510587,\n",
       "       11301.10641037, 18332.87511207, 16673.92477798, 29495.55178338,\n",
       "       29495.55178338, 29142.08639481, 12016.62613202, 11697.23318166,\n",
       "       12342.34351684, 12386.49919971, 12401.26513708, 12466.45293627,\n",
       "       18242.95384024, 17949.00448273,  6700.20551188,  7997.30024417,\n",
       "        8636.26729049,  7944.41290334,  8390.53558175,  9428.00408123,\n",
       "       10474.44703897, 11297.44802676,  8851.7365991 ,  9797.87067058,\n",
       "        9844.28010745, 13096.77282426,  6056.63496474,  6245.63877429,\n",
       "        6145.27113649,  7292.72653992,  7665.13318655, 12736.87506656,\n",
       "        6871.06981567,  6968.66287912,  9283.38827884,  9464.77139239,\n",
       "        7169.3719601 ,  7136.3122441 ,  7210.40024787,  7330.79618254,\n",
       "        7477.79752708, 11470.87491749, 11381.87464018, 13425.15063307,\n",
       "       13416.04571804, 13450.31407106, 13756.595326  , 13844.6633676 ,\n",
       "       14559.88992624,  9806.11748135,  9879.53213034, 10407.28472047,\n",
       "       10407.28472047, 10562.89821641, 20451.82473939, 20392.24997134,\n",
       "       19935.66449178, 19170.99696916,  8417.3909446 ,  8516.96887281,\n",
       "        8433.178976  ,  8524.96214343,  8695.96885206,  7520.25782581,\n",
       "        9838.62475227,  9575.08567915,  9484.96194069, 14720.52537862,\n",
       "        8713.09236566, 10070.069151  , 14626.38856972, 15008.62680132,\n",
       "       14696.7259568 , 15034.47898838, 19307.91162797, 18667.09940953,\n",
       "       14749.22928895, 18027.49072084, 19827.65641803, 17324.32982519,\n",
       "       16292.72734879])"
      ]
     },
     "execution_count": 45,
     "metadata": {},
     "output_type": "execute_result"
    }
   ],
   "source": [
    "yhat"
   ]
  },
  {
   "cell_type": "markdown",
   "id": "5ab3a836-aeea-42f3-a184-f00007a940ba",
   "metadata": {},
   "source": [
    "## Measures for In-Sample Evaluation\n",
    "\n",
    "- A way to numerically determine how good the model fits on dataset\n",
    "- Determine the fit of a model:"
   ]
  },
  {
   "cell_type": "markdown",
   "id": "0d39d8c0-017c-40c7-b447-fb3bad528296",
   "metadata": {},
   "source": [
    "### Mean Squared Error (MSE)\n",
    "\n",
    "- In python, the MSE is available in the `metrics`"
   ]
  },
  {
   "cell_type": "code",
   "execution_count": 49,
   "id": "6dc682b1-74a8-4481-9f59-9a9fdd26b6ff",
   "metadata": {},
   "outputs": [],
   "source": [
    "from sklearn.metrics import mean_squared_error"
   ]
  },
  {
   "cell_type": "markdown",
   "id": "33aad332-f235-437d-b0d0-4c63fd3c5aa2",
   "metadata": {},
   "source": [
    "### R-Squared\n",
    "\n",
    "- The coefficient of determination or R squared\n",
    "- Is a measure to determine how close the data is to the fitted regression line\n",
    "- R^2: the percentage of variation of the target variable (Y) that is explained by the linear model\n",
    "\n",
    "$$\n",
    "R^{2}=\\Bigg(1-\\dfrac{\\text{MSE of regression line}}{\\text{MSE of the average of the data}}\\Bigg)\n",
    "$$\n",
    "\n",
    "- A good model will perform as: $R^{2} = 1$, since the fraction will be close to 0\n",
    "\n",
    "- In python, we use the `score` method after the linear regression"
   ]
  },
  {
   "cell_type": "markdown",
   "id": "16ca2b74-2d1b-4131-935f-205a024dac26",
   "metadata": {},
   "source": [
    "```pytyon\n",
    "\n",
    "X = df[['highway-mpg']]\n",
    "Y = df['price']\n",
    "\n",
    "lm.fit(X, Y)\n",
    "\n",
    "lm.score(X, Y)\n",
    "\n",
    "```"
   ]
  },
  {
   "cell_type": "markdown",
   "id": "1e33b1d3-6b7f-400c-a6e3-fe0fcf6e7785",
   "metadata": {},
   "source": [
    "## Prediction and Decision Making \n",
    "\n",
    "- How do we determine if our model is correct?\n",
    "- To determine final best fit, we look at a combination of:\n",
    "    - Do the predicted values make sense\n",
    "    - Visualization\n",
    "    - Numerical measures for evaluation\n",
    "    - Comparing models\n",
    "    \n",
    "See this example $\\downarrow$"
   ]
  },
  {
   "cell_type": "code",
   "execution_count": 59,
   "id": "5ca48cfd-2b90-45d7-bb72-177c1495ab5d",
   "metadata": {},
   "outputs": [
    {
     "data": {
      "text/plain": [
       "LinearRegression()"
      ]
     },
     "execution_count": 59,
     "metadata": {},
     "output_type": "execute_result"
    }
   ],
   "source": [
    "from sklearn.linear_model import LinearRegression\n",
    "lm = LinearRegression()\n",
    "lm.fit(df[['highway-mpg']], df['price'])"
   ]
  },
  {
   "cell_type": "markdown",
   "id": "24d0663c-4987-4189-a403-8f7e608dadfe",
   "metadata": {},
   "source": [
    "Let's predict the price of a car with 30 highway-mpg"
   ]
  },
  {
   "cell_type": "code",
   "execution_count": 62,
   "id": "166892b8-eb00-4b21-a0a1-096c4d988bfe",
   "metadata": {},
   "outputs": [
    {
     "data": {
      "text/plain": [
       "array([13771.3045085])"
      ]
     },
     "execution_count": 62,
     "metadata": {},
     "output_type": "execute_result"
    }
   ],
   "source": [
    "lm.predict([[30]])"
   ]
  },
  {
   "cell_type": "markdown",
   "id": "13366259-92c2-43f9-a9f8-21f13beb1cb6",
   "metadata": {},
   "source": [
    "The predition says the car cost will be \\$ 13771.30\n",
    "\n",
    "It make sense, the value is not negative, neither too much high neither low"
   ]
  },
  {
   "cell_type": "code",
   "execution_count": 63,
   "id": "97385671-38db-4a88-9a80-7761bf7d2f93",
   "metadata": {},
   "outputs": [],
   "source": [
    "import numpy as np\n",
    "new_input = np.arange(1, 101, 1).reshape(-1, 1)"
   ]
  },
  {
   "cell_type": "code",
   "execution_count": 64,
   "id": "765f474d-8e78-4b55-bf23-c263bcd47623",
   "metadata": {},
   "outputs": [],
   "source": [
    "yhat = lm.predict(new_input)"
   ]
  },
  {
   "cell_type": "code",
   "execution_count": 66,
   "id": "7ae52082-c8f1-436b-b4d0-4ec8131dfc05",
   "metadata": {},
   "outputs": [
    {
     "data": {
      "text/plain": [
       "(100,)"
      ]
     },
     "execution_count": 66,
     "metadata": {},
     "output_type": "execute_result"
    }
   ],
   "source": [
    "yhat.shape"
   ]
  },
  {
   "cell_type": "code",
   "execution_count": null,
   "id": "976cb179-32bd-4d5e-8404-02d029b7f919",
   "metadata": {},
   "outputs": [],
   "source": []
  }
 ],
 "metadata": {
  "kernelspec": {
   "display_name": "Python 3",
   "language": "python",
   "name": "python3"
  },
  "language_info": {
   "codemirror_mode": {
    "name": "ipython",
    "version": 3
   },
   "file_extension": ".py",
   "mimetype": "text/x-python",
   "name": "python",
   "nbconvert_exporter": "python",
   "pygments_lexer": "ipython3",
   "version": "3.8.8"
  }
 },
 "nbformat": 4,
 "nbformat_minor": 5
}
